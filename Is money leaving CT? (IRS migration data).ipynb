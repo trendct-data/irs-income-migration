{
 "cells": [
  {
   "cell_type": "markdown",
   "metadata": {},
   "source": [
    "# IRS migration analysis: Is money leaving CT?\n",
    "\n",
    "by Jake Kara / TrendCT.org\n",
    "\n",
    "This is my first attempt at using highly reliable but narrowly focused data to shed some light on the question of whether there is an exodus of wealth from the state. \n",
    "\n",
    "raw data available here: https://www.irs.gov/uac/SOI-Tax-Stats-Migration-Data\n",
    "\n",
    "#### Notebook format\n",
    "\n",
    "TrendCT.org strives to publish its data and analysis in as clear and reproducible a format as possible in an effort to encourage readers to check our work and expand upon our analysis.\n"
   ]
  },
  {
   "cell_type": "code",
   "execution_count": null,
   "metadata": {
    "collapsed": false
   },
   "outputs": [],
   "source": []
  },
  {
   "cell_type": "code",
   "execution_count": 1,
   "metadata": {
    "collapsed": false
   },
   "outputs": [],
   "source": [
    "import os, pandas as pd\n",
    "\n",
    "data_dir = \"ct_xls/renamed/\"\n",
    "\n",
    "files = os.listdir(data_dir)"
   ]
  },
  {
   "cell_type": "code",
   "execution_count": 2,
   "metadata": {
    "collapsed": false
   },
   "outputs": [],
   "source": [
    "## Load in each year's data\n",
    "\n",
    "outflow = {}\n",
    "inflow = {}\n",
    "\n",
    "## The following years don't have aggregate income data:\n",
    "## 1991, 1992\n",
    "## So we'll skip those\n",
    "\n",
    "## prototype for 1993 on \n",
    "#outflow[1993] =  pd.read_excel(\"ct_xls/renamed/1992-93 out.xls\", skiprows=7)\n",
    "#outflow[1993].head()\n",
    "\n",
    "## Turn year int into YYYY-YY two-year format\n",
    "def abbr(year): \n",
    "    year_abbr = \"\"\n",
    "    if year < 2000:\n",
    "        year_abbr = year - 1900\n",
    "    elif year < 2010:\n",
    "        year_abbr = \"0\" + str(year - 2000)\n",
    "    else:\n",
    "        year_abbr = year - 2000\n",
    "    return str(year - 1) + \"-\" + str(year_abbr)\n",
    "    \n",
    "def fname(year, in_out):\n",
    "    return \"ct_xls/renamed/\" + abbr(year) + \" \" + in_out + \".xls\"\n",
    "\n",
    "def loadyear(year, skip):\n",
    "    print \"Loading: \" + str(year)\n",
    "    inflow[year] = pd.read_excel(fname(year, \"in\"), skiprows = skip)\n",
    "    outflow[year] = pd.read_excel(fname(year, \"out\"), skiprows = skip)\n",
    "    #outflow[year][\"year\"] = year\n",
    "    #return outflow[year]\n",
    "\n",
    "def load93(year):\n",
    "    loadyear(year, 6)\n"
   ]
  },
  {
   "cell_type": "code",
   "execution_count": 3,
   "metadata": {
    "collapsed": false
   },
   "outputs": [
    {
     "name": "stdout",
     "output_type": "stream",
     "text": [
      "Loading: 1993\n"
     ]
    },
    {
     "data": {
      "text/html": [
       "<div>\n",
       "<table border=\"1\" class=\"dataframe\">\n",
       "  <thead>\n",
       "    <tr style=\"text-align: right;\">\n",
       "      <th></th>\n",
       "      <th>abbr</th>\n",
       "      <th>state</th>\n",
       "      <th>returns</th>\n",
       "      <th>exemptions</th>\n",
       "      <th>agi</th>\n",
       "      <th>year</th>\n",
       "    </tr>\n",
       "  </thead>\n",
       "  <tbody>\n",
       "    <tr>\n",
       "      <th>1</th>\n",
       "      <td>XX</td>\n",
       "      <td>Connecticut</td>\n",
       "      <td>33195</td>\n",
       "      <td>60452</td>\n",
       "      <td>1681451</td>\n",
       "      <td>1993</td>\n",
       "    </tr>\n",
       "  </tbody>\n",
       "</table>\n",
       "</div>"
      ],
      "text/plain": [
       "  abbr        state  returns  exemptions      agi  year\n",
       "1   XX  Connecticut    33195       60452  1681451  1993"
      ]
     },
     "execution_count": 3,
     "metadata": {},
     "output_type": "execute_result"
    }
   ],
   "source": [
    "## Load 1993 data\n",
    "load93(1993)\n",
    "\n",
    "outflow[1993].columns = [\"to\",\"abbr\",\"state\",\"returns\",\"exemptions\",\"agi\"]\n",
    "outflow[1993][\"year\"] = 1993\n",
    "outflow[1993] = outflow[1993].drop(\"to\",1)\n",
    "\n",
    "inflow[1993].columns = [\"to\",\"abbr\",\"state\",\"returns\",\"exemptions\",\"agi\"]\n",
    "inflow[1993][\"year\"] = 1993\n",
    "inflow[1993] = inflow[1993].drop(\"to\",1)\n",
    "\n",
    "totals = {}\n",
    "totals[1993] = outflow[1993][outflow[1993][\"state\"] == \"Connecticut\"]\n",
    "\n",
    "\n",
    "in_totals = {}\n",
    "in_totals[1993] = inflow[1993][inflow[1993][\"state\"] == \"Connecticut\"]\n",
    "\n",
    "## data frame to hold data on aggregate filers leaving the state and how much money they took with them\n",
    "totals[1993]\n",
    "in_totals[1993]\n"
   ]
  },
  {
   "cell_type": "code",
   "execution_count": 4,
   "metadata": {
    "collapsed": false
   },
   "outputs": [
    {
     "name": "stdout",
     "output_type": "stream",
     "text": [
      "Loading: 1994\n"
     ]
    },
    {
     "data": {
      "text/html": [
       "<div>\n",
       "<table border=\"1\" class=\"dataframe\">\n",
       "  <thead>\n",
       "    <tr style=\"text-align: right;\">\n",
       "      <th></th>\n",
       "      <th>to</th>\n",
       "      <th>abbr</th>\n",
       "      <th>state</th>\n",
       "      <th>returns</th>\n",
       "      <th>exemptions</th>\n",
       "      <th>agi</th>\n",
       "      <th>year</th>\n",
       "    </tr>\n",
       "  </thead>\n",
       "  <tbody>\n",
       "    <tr>\n",
       "      <th>1</th>\n",
       "      <td>63</td>\n",
       "      <td></td>\n",
       "      <td>Total Inflow</td>\n",
       "      <td>32765</td>\n",
       "      <td>60222</td>\n",
       "      <td>1717898</td>\n",
       "      <td>1994</td>\n",
       "    </tr>\n",
       "  </tbody>\n",
       "</table>\n",
       "</div>"
      ],
      "text/plain": [
       "   to abbr         state  returns  exemptions      agi  year\n",
       "1  63       Total Inflow    32765       60222  1717898  1994"
      ]
     },
     "execution_count": 4,
     "metadata": {},
     "output_type": "execute_result"
    }
   ],
   "source": [
    "## Load 1994 data\n",
    "load93(1994)\n",
    "outflow[1994].columns = [\"to\",\"abbr\",\"state\",\"returns\",\"exemptions\",\"agi\"]\n",
    "outflow[1994][\"year\"] = 1994\n",
    "outflow[1994]\n",
    "\n",
    "inflow[1994].columns = [\"to\",\"abbr\",\"state\",\"returns\",\"exemptions\",\"agi\"]\n",
    "inflow[1994][\"year\"] = 1994\n",
    "inflow[1994]\n",
    "\n",
    "totals[1994] = outflow[1994][outflow[1994][\"state\"] == \"Total Outflow\"]\n",
    "totals[1994]\n",
    "\n",
    "in_totals[1994] = inflow[1994][inflow[1994][\"state\"] == \"Total Inflow\"]\n",
    "in_totals[1994]"
   ]
  },
  {
   "cell_type": "code",
   "execution_count": 5,
   "metadata": {
    "collapsed": false
   },
   "outputs": [
    {
     "name": "stdout",
     "output_type": "stream",
     "text": [
      "Loading: 1995\n"
     ]
    },
    {
     "data": {
      "text/html": [
       "<div>\n",
       "<table border=\"1\" class=\"dataframe\">\n",
       "  <thead>\n",
       "    <tr style=\"text-align: right;\">\n",
       "      <th></th>\n",
       "      <th>abbr</th>\n",
       "      <th>state</th>\n",
       "      <th>returns</th>\n",
       "      <th>exemptions</th>\n",
       "      <th>agi</th>\n",
       "      <th>year</th>\n",
       "    </tr>\n",
       "  </thead>\n",
       "  <tbody>\n",
       "    <tr>\n",
       "      <th>1</th>\n",
       "      <td></td>\n",
       "      <td>Total Inflow</td>\n",
       "      <td>35221</td>\n",
       "      <td>64065</td>\n",
       "      <td>1735618</td>\n",
       "      <td>1995</td>\n",
       "    </tr>\n",
       "  </tbody>\n",
       "</table>\n",
       "</div>"
      ],
      "text/plain": [
       "  abbr         state returns exemptions      agi  year\n",
       "1       Total Inflow   35221      64065  1735618  1995"
      ]
     },
     "execution_count": 5,
     "metadata": {},
     "output_type": "execute_result"
    }
   ],
   "source": [
    "## Load 1995 data\n",
    "load93(1995)\n",
    "outflow[1995].columns = [\"to\",\"abbr\",\"state\",\"returns\",\"exemptions\",\"agi\"]\n",
    "outflow[1995][\"year\"] = 1995\n",
    "\n",
    "totals[1995] = outflow[1995][outflow[1995][\"state\"] == \"Total Outflow\"]\n",
    "totals[1995]\n",
    "\n",
    "inflow[1995].columns = [\"to\",\"abbr\",\"state\",\"returns\",\"exemptions\",\"agi\",\"drop\"]\n",
    "inflow[1995] = inflow[1995].drop(\"to\",1)\n",
    "inflow[1995] = inflow[1995].drop(\"drop\",1)\n",
    "inflow[1995][\"year\"] = 1995\n",
    "\n",
    "in_totals[1995] = inflow[1995][inflow[1995][\"state\"] == \"Total Inflow\"]\n",
    "\n",
    "in_totals[1995]\n",
    "\n",
    "#inflow[1995]\n"
   ]
  },
  {
   "cell_type": "code",
   "execution_count": 6,
   "metadata": {
    "collapsed": false
   },
   "outputs": [
    {
     "name": "stdout",
     "output_type": "stream",
     "text": [
      "Loading: 1996\n"
     ]
    },
    {
     "name": "stderr",
     "output_type": "stream",
     "text": [
      "/usr/local/lib/python2.7/site-packages/ipykernel/__main__.py:22: SettingWithCopyWarning: \n",
      "A value is trying to be set on a copy of a slice from a DataFrame.\n",
      "Try using .loc[row_indexer,col_indexer] = value instead\n",
      "\n",
      "See the caveats in the documentation: http://pandas.pydata.org/pandas-docs/stable/indexing.html#indexing-view-versus-copy\n"
     ]
    },
    {
     "data": {
      "text/html": [
       "<div>\n",
       "<table border=\"1\" class=\"dataframe\">\n",
       "  <thead>\n",
       "    <tr style=\"text-align: right;\">\n",
       "      <th></th>\n",
       "      <th>to</th>\n",
       "      <th>abbr</th>\n",
       "      <th>state</th>\n",
       "      <th>returns</th>\n",
       "      <th>exemptions</th>\n",
       "      <th>agi</th>\n",
       "      <th>year</th>\n",
       "    </tr>\n",
       "  </thead>\n",
       "  <tbody>\n",
       "    <tr>\n",
       "      <th>1</th>\n",
       "      <td>96</td>\n",
       "      <td>CT</td>\n",
       "      <td>CT Total Mig - US &amp; For</td>\n",
       "      <td>33780</td>\n",
       "      <td>61377</td>\n",
       "      <td>1803045</td>\n",
       "      <td>1996</td>\n",
       "    </tr>\n",
       "  </tbody>\n",
       "</table>\n",
       "</div>"
      ],
      "text/plain": [
       "   to abbr                    state returns exemptions      agi  year\n",
       "1  96   CT  CT Total Mig - US & For   33780      61377  1803045  1996"
      ]
     },
     "execution_count": 6,
     "metadata": {},
     "output_type": "execute_result"
    }
   ],
   "source": [
    "## Load 1996 data\n",
    "\n",
    "#load93(1996)\n",
    "#outflow[1996]\n",
    "#outflow[1996].columns = [\"to\",\"abbr\",\"state\",\"returns\",\"exemptions\",\"agi\"]\n",
    "#outflow[1996][\"year\"] = 1996\n",
    "\n",
    "#totals[1996] = outflow[1996][outflow[1996][\"state\"] == \"CT Total Mig - US & For\"]\n",
    "#totals[1996]\n",
    "\n",
    "## All the same through 2004, so we'll write a function to do it\n",
    "## based on the prototype above\n",
    "def load96(year):\n",
    "    load93(year)\n",
    "    outflow[year].columns = [\"to\",\"abbr\",\"state\",\"returns\",\"exemptions\",\"agi\"]\n",
    "    outflow[year][\"year\"] = year\n",
    "\n",
    "    totals[year] = outflow[year][outflow[year][\"state\"] == \"CT Total Mig - US & For\"]\n",
    "    inflow[year].columns = [\"to\",\"abbr\",\"state\",\"returns\",\"exemptions\",\"agi\"]\n",
    "    \n",
    "    in_totals[year] = inflow[year][inflow[year][\"state\"] == \"CT Total Mig - US & For\"]\n",
    "    in_totals[year][\"year\"] = year\n",
    "    return in_totals[year]\n",
    "\n",
    "load96(1996)"
   ]
  },
  {
   "cell_type": "code",
   "execution_count": 7,
   "metadata": {
    "collapsed": false
   },
   "outputs": [
    {
     "name": "stdout",
     "output_type": "stream",
     "text": [
      "Loading: 1997\n"
     ]
    },
    {
     "name": "stderr",
     "output_type": "stream",
     "text": [
      "/usr/local/lib/python2.7/site-packages/ipykernel/__main__.py:22: SettingWithCopyWarning: \n",
      "A value is trying to be set on a copy of a slice from a DataFrame.\n",
      "Try using .loc[row_indexer,col_indexer] = value instead\n",
      "\n",
      "See the caveats in the documentation: http://pandas.pydata.org/pandas-docs/stable/indexing.html#indexing-view-versus-copy\n"
     ]
    },
    {
     "data": {
      "text/html": [
       "<div>\n",
       "<table border=\"1\" class=\"dataframe\">\n",
       "  <thead>\n",
       "    <tr style=\"text-align: right;\">\n",
       "      <th></th>\n",
       "      <th>to</th>\n",
       "      <th>abbr</th>\n",
       "      <th>state</th>\n",
       "      <th>returns</th>\n",
       "      <th>exemptions</th>\n",
       "      <th>agi</th>\n",
       "      <th>year</th>\n",
       "    </tr>\n",
       "  </thead>\n",
       "  <tbody>\n",
       "    <tr>\n",
       "      <th>1</th>\n",
       "      <td>96</td>\n",
       "      <td>CT</td>\n",
       "      <td>CT Total Mig - US &amp; For</td>\n",
       "      <td>35624</td>\n",
       "      <td>64742</td>\n",
       "      <td>2056093</td>\n",
       "      <td>1997</td>\n",
       "    </tr>\n",
       "  </tbody>\n",
       "</table>\n",
       "</div>"
      ],
      "text/plain": [
       "   to abbr                    state  returns  exemptions      agi  year\n",
       "1  96   CT  CT Total Mig - US & For    35624       64742  2056093  1997"
      ]
     },
     "execution_count": 7,
     "metadata": {},
     "output_type": "execute_result"
    }
   ],
   "source": [
    "## Load 1997 data\n",
    "load96(1997)"
   ]
  },
  {
   "cell_type": "code",
   "execution_count": 8,
   "metadata": {
    "collapsed": false
   },
   "outputs": [
    {
     "name": "stdout",
     "output_type": "stream",
     "text": [
      "Loading: 1998\n"
     ]
    },
    {
     "name": "stderr",
     "output_type": "stream",
     "text": [
      "/usr/local/lib/python2.7/site-packages/ipykernel/__main__.py:22: SettingWithCopyWarning: \n",
      "A value is trying to be set on a copy of a slice from a DataFrame.\n",
      "Try using .loc[row_indexer,col_indexer] = value instead\n",
      "\n",
      "See the caveats in the documentation: http://pandas.pydata.org/pandas-docs/stable/indexing.html#indexing-view-versus-copy\n"
     ]
    },
    {
     "data": {
      "text/html": [
       "<div>\n",
       "<table border=\"1\" class=\"dataframe\">\n",
       "  <thead>\n",
       "    <tr style=\"text-align: right;\">\n",
       "      <th></th>\n",
       "      <th>to</th>\n",
       "      <th>abbr</th>\n",
       "      <th>state</th>\n",
       "      <th>returns</th>\n",
       "      <th>exemptions</th>\n",
       "      <th>agi</th>\n",
       "      <th>year</th>\n",
       "    </tr>\n",
       "  </thead>\n",
       "  <tbody>\n",
       "    <tr>\n",
       "      <th>1</th>\n",
       "      <td>96</td>\n",
       "      <td>CT</td>\n",
       "      <td>CT Total Mig - US &amp; For</td>\n",
       "      <td>36956</td>\n",
       "      <td>66435</td>\n",
       "      <td>2168891</td>\n",
       "      <td>1998</td>\n",
       "    </tr>\n",
       "  </tbody>\n",
       "</table>\n",
       "</div>"
      ],
      "text/plain": [
       "   to abbr                    state  returns  exemptions      agi  year\n",
       "1  96   CT  CT Total Mig - US & For    36956       66435  2168891  1998"
      ]
     },
     "execution_count": 8,
     "metadata": {},
     "output_type": "execute_result"
    }
   ],
   "source": [
    "## Load 1998 data\n",
    "load96(1998)"
   ]
  },
  {
   "cell_type": "code",
   "execution_count": 9,
   "metadata": {
    "collapsed": false
   },
   "outputs": [
    {
     "name": "stdout",
     "output_type": "stream",
     "text": [
      "Loading: 1999\n"
     ]
    },
    {
     "name": "stderr",
     "output_type": "stream",
     "text": [
      "/usr/local/lib/python2.7/site-packages/ipykernel/__main__.py:22: SettingWithCopyWarning: \n",
      "A value is trying to be set on a copy of a slice from a DataFrame.\n",
      "Try using .loc[row_indexer,col_indexer] = value instead\n",
      "\n",
      "See the caveats in the documentation: http://pandas.pydata.org/pandas-docs/stable/indexing.html#indexing-view-versus-copy\n"
     ]
    },
    {
     "data": {
      "text/html": [
       "<div>\n",
       "<table border=\"1\" class=\"dataframe\">\n",
       "  <thead>\n",
       "    <tr style=\"text-align: right;\">\n",
       "      <th></th>\n",
       "      <th>to</th>\n",
       "      <th>abbr</th>\n",
       "      <th>state</th>\n",
       "      <th>returns</th>\n",
       "      <th>exemptions</th>\n",
       "      <th>agi</th>\n",
       "      <th>year</th>\n",
       "    </tr>\n",
       "  </thead>\n",
       "  <tbody>\n",
       "    <tr>\n",
       "      <th>1</th>\n",
       "      <td>96</td>\n",
       "      <td>CT</td>\n",
       "      <td>CT Total Mig - US &amp; For</td>\n",
       "      <td>37959</td>\n",
       "      <td>68166</td>\n",
       "      <td>2458195</td>\n",
       "      <td>1999</td>\n",
       "    </tr>\n",
       "  </tbody>\n",
       "</table>\n",
       "</div>"
      ],
      "text/plain": [
       "   to abbr                    state  returns  exemptions      agi  year\n",
       "1  96   CT  CT Total Mig - US & For    37959       68166  2458195  1999"
      ]
     },
     "execution_count": 9,
     "metadata": {},
     "output_type": "execute_result"
    }
   ],
   "source": [
    "## Load 1999 data\n",
    "load96(1999)"
   ]
  },
  {
   "cell_type": "code",
   "execution_count": 10,
   "metadata": {
    "collapsed": false
   },
   "outputs": [
    {
     "name": "stdout",
     "output_type": "stream",
     "text": [
      "Loading: 2000\n"
     ]
    },
    {
     "name": "stderr",
     "output_type": "stream",
     "text": [
      "/usr/local/lib/python2.7/site-packages/ipykernel/__main__.py:22: SettingWithCopyWarning: \n",
      "A value is trying to be set on a copy of a slice from a DataFrame.\n",
      "Try using .loc[row_indexer,col_indexer] = value instead\n",
      "\n",
      "See the caveats in the documentation: http://pandas.pydata.org/pandas-docs/stable/indexing.html#indexing-view-versus-copy\n"
     ]
    },
    {
     "data": {
      "text/html": [
       "<div>\n",
       "<table border=\"1\" class=\"dataframe\">\n",
       "  <thead>\n",
       "    <tr style=\"text-align: right;\">\n",
       "      <th></th>\n",
       "      <th>to</th>\n",
       "      <th>abbr</th>\n",
       "      <th>state</th>\n",
       "      <th>returns</th>\n",
       "      <th>exemptions</th>\n",
       "      <th>agi</th>\n",
       "      <th>year</th>\n",
       "    </tr>\n",
       "  </thead>\n",
       "  <tbody>\n",
       "    <tr>\n",
       "      <th>1</th>\n",
       "      <td>96</td>\n",
       "      <td>CT</td>\n",
       "      <td>CT Total Mig - US &amp; For</td>\n",
       "      <td>39333</td>\n",
       "      <td>70686</td>\n",
       "      <td>2715637</td>\n",
       "      <td>2000</td>\n",
       "    </tr>\n",
       "  </tbody>\n",
       "</table>\n",
       "</div>"
      ],
      "text/plain": [
       "   to abbr                    state  returns  exemptions      agi  year\n",
       "1  96   CT  CT Total Mig - US & For    39333       70686  2715637  2000"
      ]
     },
     "execution_count": 10,
     "metadata": {},
     "output_type": "execute_result"
    }
   ],
   "source": [
    "## Load 2000 data\n",
    "load96(2000)"
   ]
  },
  {
   "cell_type": "code",
   "execution_count": 11,
   "metadata": {
    "collapsed": false
   },
   "outputs": [
    {
     "name": "stdout",
     "output_type": "stream",
     "text": [
      "Loading: 2001\n"
     ]
    },
    {
     "name": "stderr",
     "output_type": "stream",
     "text": [
      "/usr/local/lib/python2.7/site-packages/ipykernel/__main__.py:22: SettingWithCopyWarning: \n",
      "A value is trying to be set on a copy of a slice from a DataFrame.\n",
      "Try using .loc[row_indexer,col_indexer] = value instead\n",
      "\n",
      "See the caveats in the documentation: http://pandas.pydata.org/pandas-docs/stable/indexing.html#indexing-view-versus-copy\n"
     ]
    },
    {
     "data": {
      "text/html": [
       "<div>\n",
       "<table border=\"1\" class=\"dataframe\">\n",
       "  <thead>\n",
       "    <tr style=\"text-align: right;\">\n",
       "      <th></th>\n",
       "      <th>to</th>\n",
       "      <th>abbr</th>\n",
       "      <th>state</th>\n",
       "      <th>returns</th>\n",
       "      <th>exemptions</th>\n",
       "      <th>agi</th>\n",
       "      <th>year</th>\n",
       "    </tr>\n",
       "  </thead>\n",
       "  <tbody>\n",
       "    <tr>\n",
       "      <th>1</th>\n",
       "      <td>96</td>\n",
       "      <td>CT</td>\n",
       "      <td>CT Total Mig - US &amp; For</td>\n",
       "      <td>39182</td>\n",
       "      <td>70090</td>\n",
       "      <td>2837094</td>\n",
       "      <td>2001</td>\n",
       "    </tr>\n",
       "  </tbody>\n",
       "</table>\n",
       "</div>"
      ],
      "text/plain": [
       "   to abbr                    state  returns  exemptions      agi  year\n",
       "1  96   CT  CT Total Mig - US & For    39182       70090  2837094  2001"
      ]
     },
     "execution_count": 11,
     "metadata": {},
     "output_type": "execute_result"
    }
   ],
   "source": [
    "## Load 2001 data\n",
    "load96(2001)"
   ]
  },
  {
   "cell_type": "code",
   "execution_count": 12,
   "metadata": {
    "collapsed": false
   },
   "outputs": [
    {
     "name": "stdout",
     "output_type": "stream",
     "text": [
      "Loading: 2002\n"
     ]
    },
    {
     "name": "stderr",
     "output_type": "stream",
     "text": [
      "/usr/local/lib/python2.7/site-packages/ipykernel/__main__.py:22: SettingWithCopyWarning: \n",
      "A value is trying to be set on a copy of a slice from a DataFrame.\n",
      "Try using .loc[row_indexer,col_indexer] = value instead\n",
      "\n",
      "See the caveats in the documentation: http://pandas.pydata.org/pandas-docs/stable/indexing.html#indexing-view-versus-copy\n"
     ]
    },
    {
     "data": {
      "text/html": [
       "<div>\n",
       "<table border=\"1\" class=\"dataframe\">\n",
       "  <thead>\n",
       "    <tr style=\"text-align: right;\">\n",
       "      <th></th>\n",
       "      <th>to</th>\n",
       "      <th>abbr</th>\n",
       "      <th>state</th>\n",
       "      <th>returns</th>\n",
       "      <th>exemptions</th>\n",
       "      <th>agi</th>\n",
       "      <th>year</th>\n",
       "    </tr>\n",
       "  </thead>\n",
       "  <tbody>\n",
       "    <tr>\n",
       "      <th>1</th>\n",
       "      <td>96</td>\n",
       "      <td>CT</td>\n",
       "      <td>CT Total Mig - US &amp; For</td>\n",
       "      <td>40096</td>\n",
       "      <td>71022</td>\n",
       "      <td>2722527</td>\n",
       "      <td>2002</td>\n",
       "    </tr>\n",
       "  </tbody>\n",
       "</table>\n",
       "</div>"
      ],
      "text/plain": [
       "   to abbr                    state  returns  exemptions      agi  year\n",
       "1  96   CT  CT Total Mig - US & For    40096       71022  2722527  2002"
      ]
     },
     "execution_count": 12,
     "metadata": {},
     "output_type": "execute_result"
    }
   ],
   "source": [
    "## Load 2002 data\n",
    "load96(2002)"
   ]
  },
  {
   "cell_type": "code",
   "execution_count": 13,
   "metadata": {
    "collapsed": false
   },
   "outputs": [
    {
     "name": "stdout",
     "output_type": "stream",
     "text": [
      "Loading: 2003\n"
     ]
    },
    {
     "name": "stderr",
     "output_type": "stream",
     "text": [
      "/usr/local/lib/python2.7/site-packages/ipykernel/__main__.py:22: SettingWithCopyWarning: \n",
      "A value is trying to be set on a copy of a slice from a DataFrame.\n",
      "Try using .loc[row_indexer,col_indexer] = value instead\n",
      "\n",
      "See the caveats in the documentation: http://pandas.pydata.org/pandas-docs/stable/indexing.html#indexing-view-versus-copy\n"
     ]
    },
    {
     "data": {
      "text/html": [
       "<div>\n",
       "<table border=\"1\" class=\"dataframe\">\n",
       "  <thead>\n",
       "    <tr style=\"text-align: right;\">\n",
       "      <th></th>\n",
       "      <th>to</th>\n",
       "      <th>abbr</th>\n",
       "      <th>state</th>\n",
       "      <th>returns</th>\n",
       "      <th>exemptions</th>\n",
       "      <th>agi</th>\n",
       "      <th>year</th>\n",
       "    </tr>\n",
       "  </thead>\n",
       "  <tbody>\n",
       "    <tr>\n",
       "      <th>1</th>\n",
       "      <td>96</td>\n",
       "      <td>CT</td>\n",
       "      <td>CT Total Mig - US &amp; For</td>\n",
       "      <td>39449</td>\n",
       "      <td>70423</td>\n",
       "      <td>2566727</td>\n",
       "      <td>2003</td>\n",
       "    </tr>\n",
       "  </tbody>\n",
       "</table>\n",
       "</div>"
      ],
      "text/plain": [
       "   to abbr                    state  returns  exemptions      agi  year\n",
       "1  96   CT  CT Total Mig - US & For    39449       70423  2566727  2003"
      ]
     },
     "execution_count": 13,
     "metadata": {},
     "output_type": "execute_result"
    }
   ],
   "source": [
    "## Load 2003 data\n",
    "load96(2003)"
   ]
  },
  {
   "cell_type": "code",
   "execution_count": 14,
   "metadata": {
    "collapsed": false
   },
   "outputs": [
    {
     "name": "stdout",
     "output_type": "stream",
     "text": [
      "Loading: 2004\n"
     ]
    },
    {
     "name": "stderr",
     "output_type": "stream",
     "text": [
      "/usr/local/lib/python2.7/site-packages/ipykernel/__main__.py:22: SettingWithCopyWarning: \n",
      "A value is trying to be set on a copy of a slice from a DataFrame.\n",
      "Try using .loc[row_indexer,col_indexer] = value instead\n",
      "\n",
      "See the caveats in the documentation: http://pandas.pydata.org/pandas-docs/stable/indexing.html#indexing-view-versus-copy\n"
     ]
    },
    {
     "data": {
      "text/html": [
       "<div>\n",
       "<table border=\"1\" class=\"dataframe\">\n",
       "  <thead>\n",
       "    <tr style=\"text-align: right;\">\n",
       "      <th></th>\n",
       "      <th>to</th>\n",
       "      <th>abbr</th>\n",
       "      <th>state</th>\n",
       "      <th>returns</th>\n",
       "      <th>exemptions</th>\n",
       "      <th>agi</th>\n",
       "      <th>year</th>\n",
       "    </tr>\n",
       "  </thead>\n",
       "  <tbody>\n",
       "    <tr>\n",
       "      <th>1</th>\n",
       "      <td>96</td>\n",
       "      <td>CT</td>\n",
       "      <td>CT Total Mig - US &amp; For</td>\n",
       "      <td>37264</td>\n",
       "      <td>66966</td>\n",
       "      <td>2506512</td>\n",
       "      <td>2004</td>\n",
       "    </tr>\n",
       "  </tbody>\n",
       "</table>\n",
       "</div>"
      ],
      "text/plain": [
       "   to abbr                    state  returns  exemptions      agi  year\n",
       "1  96   CT  CT Total Mig - US & For    37264       66966  2506512  2004"
      ]
     },
     "execution_count": 14,
     "metadata": {},
     "output_type": "execute_result"
    }
   ],
   "source": [
    "## Load 2004 data\n",
    "load96(2004)"
   ]
  },
  {
   "cell_type": "code",
   "execution_count": 15,
   "metadata": {
    "collapsed": false
   },
   "outputs": [
    {
     "name": "stdout",
     "output_type": "stream",
     "text": [
      "Loading: 2005\n"
     ]
    },
    {
     "name": "stderr",
     "output_type": "stream",
     "text": [
      "/usr/local/lib/python2.7/site-packages/ipykernel/__main__.py:22: SettingWithCopyWarning: \n",
      "A value is trying to be set on a copy of a slice from a DataFrame.\n",
      "Try using .loc[row_indexer,col_indexer] = value instead\n",
      "\n",
      "See the caveats in the documentation: http://pandas.pydata.org/pandas-docs/stable/indexing.html#indexing-view-versus-copy\n"
     ]
    },
    {
     "data": {
      "text/html": [
       "<div>\n",
       "<table border=\"1\" class=\"dataframe\">\n",
       "  <thead>\n",
       "    <tr style=\"text-align: right;\">\n",
       "      <th></th>\n",
       "      <th>to</th>\n",
       "      <th>abbr</th>\n",
       "      <th>state</th>\n",
       "      <th>returns</th>\n",
       "      <th>exemptions</th>\n",
       "      <th>agi</th>\n",
       "      <th>year</th>\n",
       "    </tr>\n",
       "  </thead>\n",
       "  <tbody>\n",
       "    <tr>\n",
       "      <th>0</th>\n",
       "      <td>96</td>\n",
       "      <td>CT</td>\n",
       "      <td>CT Total Mig - US &amp; For</td>\n",
       "      <td>38125</td>\n",
       "      <td>68651</td>\n",
       "      <td>2698556</td>\n",
       "      <td>2005</td>\n",
       "    </tr>\n",
       "  </tbody>\n",
       "</table>\n",
       "</div>"
      ],
      "text/plain": [
       "   to abbr                    state  returns  exemptions      agi  year\n",
       "0  96   CT  CT Total Mig - US & For    38125       68651  2698556  2005"
      ]
     },
     "execution_count": 15,
     "metadata": {},
     "output_type": "execute_result"
    }
   ],
   "source": [
    "## Load 2005 data\n",
    "load96(2005)"
   ]
  },
  {
   "cell_type": "code",
   "execution_count": 16,
   "metadata": {
    "collapsed": false
   },
   "outputs": [
    {
     "name": "stderr",
     "output_type": "stream",
     "text": [
      "/usr/local/lib/python2.7/site-packages/ipykernel/__main__.py:22: SettingWithCopyWarning: \n",
      "A value is trying to be set on a copy of a slice from a DataFrame.\n",
      "Try using .loc[row_indexer,col_indexer] = value instead\n",
      "\n",
      "See the caveats in the documentation: http://pandas.pydata.org/pandas-docs/stable/indexing.html#indexing-view-versus-copy\n"
     ]
    },
    {
     "name": "stdout",
     "output_type": "stream",
     "text": [
      "Loading: 2006\n"
     ]
    },
    {
     "data": {
      "text/html": [
       "<div>\n",
       "<table border=\"1\" class=\"dataframe\">\n",
       "  <thead>\n",
       "    <tr style=\"text-align: right;\">\n",
       "      <th></th>\n",
       "      <th>to</th>\n",
       "      <th>abbr</th>\n",
       "      <th>state</th>\n",
       "      <th>returns</th>\n",
       "      <th>exemptions</th>\n",
       "      <th>agi</th>\n",
       "      <th>year</th>\n",
       "    </tr>\n",
       "  </thead>\n",
       "  <tbody>\n",
       "    <tr>\n",
       "      <th>0</th>\n",
       "      <td>96</td>\n",
       "      <td>CT</td>\n",
       "      <td>CT Total Mig - US &amp; For</td>\n",
       "      <td>38256</td>\n",
       "      <td>68038</td>\n",
       "      <td>2657640</td>\n",
       "      <td>2006</td>\n",
       "    </tr>\n",
       "  </tbody>\n",
       "</table>\n",
       "</div>"
      ],
      "text/plain": [
       "   to abbr                    state  returns  exemptions      agi  year\n",
       "0  96   CT  CT Total Mig - US & For    38256       68038  2657640  2006"
      ]
     },
     "execution_count": 16,
     "metadata": {},
     "output_type": "execute_result"
    }
   ],
   "source": [
    "## Load 2006 data\n",
    "load96(2006)"
   ]
  },
  {
   "cell_type": "code",
   "execution_count": 17,
   "metadata": {
    "collapsed": false
   },
   "outputs": [
    {
     "name": "stdout",
     "output_type": "stream",
     "text": [
      "Loading: 2007\n"
     ]
    },
    {
     "name": "stderr",
     "output_type": "stream",
     "text": [
      "/usr/local/lib/python2.7/site-packages/ipykernel/__main__.py:22: SettingWithCopyWarning: \n",
      "A value is trying to be set on a copy of a slice from a DataFrame.\n",
      "Try using .loc[row_indexer,col_indexer] = value instead\n",
      "\n",
      "See the caveats in the documentation: http://pandas.pydata.org/pandas-docs/stable/indexing.html#indexing-view-versus-copy\n"
     ]
    },
    {
     "data": {
      "text/html": [
       "<div>\n",
       "<table border=\"1\" class=\"dataframe\">\n",
       "  <thead>\n",
       "    <tr style=\"text-align: right;\">\n",
       "      <th></th>\n",
       "      <th>to</th>\n",
       "      <th>abbr</th>\n",
       "      <th>state</th>\n",
       "      <th>returns</th>\n",
       "      <th>exemptions</th>\n",
       "      <th>agi</th>\n",
       "      <th>year</th>\n",
       "    </tr>\n",
       "  </thead>\n",
       "  <tbody>\n",
       "    <tr>\n",
       "      <th>0</th>\n",
       "      <td>96</td>\n",
       "      <td>CT</td>\n",
       "      <td>CT Total Mig - US &amp; For</td>\n",
       "      <td>36676</td>\n",
       "      <td>64428</td>\n",
       "      <td>2594852</td>\n",
       "      <td>2007</td>\n",
       "    </tr>\n",
       "  </tbody>\n",
       "</table>\n",
       "</div>"
      ],
      "text/plain": [
       "   to abbr                    state  returns  exemptions      agi  year\n",
       "0  96   CT  CT Total Mig - US & For    36676       64428  2594852  2007"
      ]
     },
     "execution_count": 17,
     "metadata": {},
     "output_type": "execute_result"
    }
   ],
   "source": [
    "## Load 2007 data\n",
    "load96(2007)"
   ]
  },
  {
   "cell_type": "code",
   "execution_count": 18,
   "metadata": {
    "collapsed": false
   },
   "outputs": [
    {
     "name": "stderr",
     "output_type": "stream",
     "text": [
      "/usr/local/lib/python2.7/site-packages/ipykernel/__main__.py:22: SettingWithCopyWarning: \n",
      "A value is trying to be set on a copy of a slice from a DataFrame.\n",
      "Try using .loc[row_indexer,col_indexer] = value instead\n",
      "\n",
      "See the caveats in the documentation: http://pandas.pydata.org/pandas-docs/stable/indexing.html#indexing-view-versus-copy\n"
     ]
    },
    {
     "name": "stdout",
     "output_type": "stream",
     "text": [
      "Loading: 2008\n"
     ]
    },
    {
     "data": {
      "text/html": [
       "<div>\n",
       "<table border=\"1\" class=\"dataframe\">\n",
       "  <thead>\n",
       "    <tr style=\"text-align: right;\">\n",
       "      <th></th>\n",
       "      <th>to</th>\n",
       "      <th>abbr</th>\n",
       "      <th>state</th>\n",
       "      <th>returns</th>\n",
       "      <th>exemptions</th>\n",
       "      <th>agi</th>\n",
       "      <th>year</th>\n",
       "    </tr>\n",
       "  </thead>\n",
       "  <tbody>\n",
       "    <tr>\n",
       "      <th>1</th>\n",
       "      <td>96</td>\n",
       "      <td>CT</td>\n",
       "      <td>CT Total Mig - US &amp; For</td>\n",
       "      <td>38072</td>\n",
       "      <td>66078</td>\n",
       "      <td>2838352</td>\n",
       "      <td>2008</td>\n",
       "    </tr>\n",
       "  </tbody>\n",
       "</table>\n",
       "</div>"
      ],
      "text/plain": [
       "   to abbr                    state  returns  exemptions      agi  year\n",
       "1  96   CT  CT Total Mig - US & For    38072       66078  2838352  2008"
      ]
     },
     "execution_count": 18,
     "metadata": {},
     "output_type": "execute_result"
    }
   ],
   "source": [
    "## Load 2008 data\n",
    "load96(2008)"
   ]
  },
  {
   "cell_type": "code",
   "execution_count": 19,
   "metadata": {
    "collapsed": false
   },
   "outputs": [
    {
     "name": "stderr",
     "output_type": "stream",
     "text": [
      "/usr/local/lib/python2.7/site-packages/ipykernel/__main__.py:22: SettingWithCopyWarning: \n",
      "A value is trying to be set on a copy of a slice from a DataFrame.\n",
      "Try using .loc[row_indexer,col_indexer] = value instead\n",
      "\n",
      "See the caveats in the documentation: http://pandas.pydata.org/pandas-docs/stable/indexing.html#indexing-view-versus-copy\n"
     ]
    },
    {
     "name": "stdout",
     "output_type": "stream",
     "text": [
      "Loading: 2009\n"
     ]
    },
    {
     "data": {
      "text/html": [
       "<div>\n",
       "<table border=\"1\" class=\"dataframe\">\n",
       "  <thead>\n",
       "    <tr style=\"text-align: right;\">\n",
       "      <th></th>\n",
       "      <th>to</th>\n",
       "      <th>abbr</th>\n",
       "      <th>state</th>\n",
       "      <th>returns</th>\n",
       "      <th>exemptions</th>\n",
       "      <th>agi</th>\n",
       "      <th>year</th>\n",
       "    </tr>\n",
       "  </thead>\n",
       "  <tbody>\n",
       "    <tr>\n",
       "      <th>1</th>\n",
       "      <td>96</td>\n",
       "      <td>CT</td>\n",
       "      <td>CT Total Mig - US &amp; For</td>\n",
       "      <td>36310</td>\n",
       "      <td>62186</td>\n",
       "      <td>2468447</td>\n",
       "      <td>2009</td>\n",
       "    </tr>\n",
       "  </tbody>\n",
       "</table>\n",
       "</div>"
      ],
      "text/plain": [
       "   to abbr                    state  returns  exemptions      agi  year\n",
       "1  96   CT  CT Total Mig - US & For    36310       62186  2468447  2009"
      ]
     },
     "execution_count": 19,
     "metadata": {},
     "output_type": "execute_result"
    }
   ],
   "source": [
    "## Load 2009 data\n",
    "load96(2009)"
   ]
  },
  {
   "cell_type": "code",
   "execution_count": 20,
   "metadata": {
    "collapsed": false
   },
   "outputs": [
    {
     "name": "stdout",
     "output_type": "stream",
     "text": [
      "Loading: 2010\n"
     ]
    },
    {
     "data": {
      "text/html": [
       "<div>\n",
       "<table border=\"1\" class=\"dataframe\">\n",
       "  <thead>\n",
       "    <tr style=\"text-align: right;\">\n",
       "      <th></th>\n",
       "      <th>code2</th>\n",
       "      <th>abbr</th>\n",
       "      <th>state</th>\n",
       "      <th>returns</th>\n",
       "      <th>exemptions</th>\n",
       "      <th>agi</th>\n",
       "      <th>year</th>\n",
       "    </tr>\n",
       "  </thead>\n",
       "  <tbody>\n",
       "    <tr>\n",
       "      <th>2</th>\n",
       "      <td>96</td>\n",
       "      <td>CT</td>\n",
       "      <td>CT Total Mig - US &amp; For</td>\n",
       "      <td>32415</td>\n",
       "      <td>56130</td>\n",
       "      <td>2134638</td>\n",
       "      <td>2010</td>\n",
       "    </tr>\n",
       "  </tbody>\n",
       "</table>\n",
       "</div>"
      ],
      "text/plain": [
       "  code2 abbr                    state returns exemptions      agi  year\n",
       "2    96   CT  CT Total Mig - US & For   32415      56130  2134638  2010"
      ]
     },
     "execution_count": 20,
     "metadata": {},
     "output_type": "execute_result"
    }
   ],
   "source": [
    "## Load 2010 data\n",
    "#loadyear(2010, 3)\n",
    "#outflow[2010].columns = [\"code1\",\"code2\",\"abbr\",\"state\",\"returns\",\"exemptions\",\"agi\"]\n",
    "#outflow[2010][\"year\"] = 2010\n",
    "#outflow[2010] = outflow[2010].drop(\"code1\",1)\n",
    "#outflow[2010] = outflow[2010].drop(\"code2\",1)\n",
    "#totals[2010] = outflow[2010][outflow[2010][\"state\"] == \"CT Total Mig - US & For\"]\n",
    "#totals[2010]\n",
    "\n",
    "# Base function on prototype above for the next years\n",
    "def load10(year):\n",
    "    loadyear(year, 3)\n",
    "    outflow[year].columns = [\"code1\",\"code2\",\"abbr\",\"state\",\"returns\",\"exemptions\",\"agi\"]\n",
    "    outflow[year][\"year\"] = year\n",
    "    outflow[year] = outflow[year].drop(\"code1\",1)\n",
    "    outflow[year] = outflow[year].drop(\"code2\",1)\n",
    "    totals[year] = outflow[year][outflow[year][\"state\"] == \"CT Total Mig - US & For\"]\n",
    "    \n",
    "    inflow[year].columns = [\"code1\",\"code2\",\"abbr\",\"state\",\"returns\",\"exemptions\",\"agi\"]\n",
    "    inflow[year][\"year\"] = year\n",
    "    inflow[year] = inflow[year].drop(\"code1\",1)\n",
    "    outflow[year] = inflow[year].drop(\"code2\",1)\n",
    "    in_totals[year] = inflow[year][inflow[year][\"state\"] == \"CT Total Mig - US & For\"]\n",
    "    \n",
    "    return in_totals[year]\n",
    "load10(2010)"
   ]
  },
  {
   "cell_type": "code",
   "execution_count": 21,
   "metadata": {
    "collapsed": false
   },
   "outputs": [
    {
     "name": "stdout",
     "output_type": "stream",
     "text": [
      "Loading: 2011\n"
     ]
    },
    {
     "data": {
      "text/html": [
       "<div>\n",
       "<table border=\"1\" class=\"dataframe\">\n",
       "  <thead>\n",
       "    <tr style=\"text-align: right;\">\n",
       "      <th></th>\n",
       "      <th>code2</th>\n",
       "      <th>abbr</th>\n",
       "      <th>state</th>\n",
       "      <th>returns</th>\n",
       "      <th>exemptions</th>\n",
       "      <th>agi</th>\n",
       "      <th>year</th>\n",
       "    </tr>\n",
       "  </thead>\n",
       "  <tbody>\n",
       "    <tr>\n",
       "      <th>2</th>\n",
       "      <td>96</td>\n",
       "      <td>CT</td>\n",
       "      <td>CT Total Mig - US &amp; For</td>\n",
       "      <td>33881</td>\n",
       "      <td>59285</td>\n",
       "      <td>2494120</td>\n",
       "      <td>2011</td>\n",
       "    </tr>\n",
       "  </tbody>\n",
       "</table>\n",
       "</div>"
      ],
      "text/plain": [
       "  code2 abbr                    state  returns  exemptions      agi  year\n",
       "2    96   CT  CT Total Mig - US & For    33881       59285  2494120  2011"
      ]
     },
     "execution_count": 21,
     "metadata": {},
     "output_type": "execute_result"
    }
   ],
   "source": [
    "load10(2011)"
   ]
  },
  {
   "cell_type": "code",
   "execution_count": 22,
   "metadata": {
    "collapsed": false
   },
   "outputs": [
    {
     "data": {
      "text/html": [
       "<div>\n",
       "<table border=\"1\" class=\"dataframe\">\n",
       "  <thead>\n",
       "    <tr style=\"text-align: right;\">\n",
       "      <th></th>\n",
       "      <th>abbr</th>\n",
       "      <th>state</th>\n",
       "      <th>returns</th>\n",
       "      <th>exemptions</th>\n",
       "      <th>agi</th>\n",
       "      <th>year</th>\n",
       "    </tr>\n",
       "  </thead>\n",
       "  <tbody>\n",
       "    <tr>\n",
       "      <th>1</th>\n",
       "      <td>CT</td>\n",
       "      <td>CT Total Migration US and Foreign</td>\n",
       "      <td>39062</td>\n",
       "      <td>67699</td>\n",
       "      <td>3165218</td>\n",
       "      <td>2012</td>\n",
       "    </tr>\n",
       "  </tbody>\n",
       "</table>\n",
       "</div>"
      ],
      "text/plain": [
       "  abbr                              state  returns  exemptions      agi  year\n",
       "1   CT  CT Total Migration US and Foreign    39062       67699  3165218  2012"
      ]
     },
     "execution_count": 22,
     "metadata": {},
     "output_type": "execute_result"
    }
   ],
   "source": [
    "## Load 2012 data\n",
    "#outflow[2012] = pd.read_excel(\"ct_xls/renamed/2011-12 in out.xls\", sheetname=\"State Outflow\", skiprows=4)\n",
    "#outflow[2012].columns = [\"code1\",\"code2\",\"abbr\",\"state\",\"returns\",\"exemptions\",\"agi\"]\n",
    "#outflow[2012] = outflow[2012].drop(\"code1\",1)\n",
    "#outflow[2012] = outflow[2012].drop(\"code2\",1)\n",
    "#outflow[2012]\n",
    "\n",
    "def load12(year):\n",
    "    outflow[year] = pd.read_excel(\"ct_xls/renamed/\" + abbr(year) + \" in out.xls\", sheetname=\"State Outflow\", skiprows=4)\n",
    "    outflow[year].columns = [\"code1\",\"code2\",\"abbr\",\"state\",\"returns\",\"exemptions\",\"agi\"]\n",
    "    outflow[year] = outflow[year].drop(\"code1\",1)\n",
    "    outflow[year] = outflow[year].drop(\"code2\",1)\n",
    "    outflow[year][\"year\"] = year\n",
    "    totals[year] =  outflow[year][outflow[year][\"state\"] == \"CT Total Migration US and Foreign\"]\n",
    "    \n",
    "    inflow[year] = pd.read_excel(\"ct_xls/renamed/\" + abbr(year) + \" in out.xls\", sheetname=\"State Inflow\", skiprows=4)\n",
    "    inflow[year].columns = [\"code1\",\"code2\",\"abbr\",\"state\",\"returns\",\"exemptions\",\"agi\"]\n",
    "    inflow[year] = inflow[year].drop(\"code1\",1)\n",
    "    inflow[year] = inflow[year].drop(\"code2\",1)\n",
    "    inflow[year][\"year\"] = year\n",
    "    in_totals[year] =  inflow[year][inflow[year][\"state\"] == \"CT Total Migration US and Foreign\"]\n",
    "    \n",
    "    return in_totals[year]\n",
    "    \n",
    "load12(2012)"
   ]
  },
  {
   "cell_type": "code",
   "execution_count": 23,
   "metadata": {
    "collapsed": false
   },
   "outputs": [
    {
     "data": {
      "text/html": [
       "<div>\n",
       "<table border=\"1\" class=\"dataframe\">\n",
       "  <thead>\n",
       "    <tr style=\"text-align: right;\">\n",
       "      <th></th>\n",
       "      <th>abbr</th>\n",
       "      <th>state</th>\n",
       "      <th>returns</th>\n",
       "      <th>exemptions</th>\n",
       "      <th>agi</th>\n",
       "      <th>year</th>\n",
       "    </tr>\n",
       "  </thead>\n",
       "  <tbody>\n",
       "    <tr>\n",
       "      <th>1</th>\n",
       "      <td>CT</td>\n",
       "      <td>CT Total Migration US and Foreign</td>\n",
       "      <td>39385</td>\n",
       "      <td>69577</td>\n",
       "      <td>3601931</td>\n",
       "      <td>2013</td>\n",
       "    </tr>\n",
       "  </tbody>\n",
       "</table>\n",
       "</div>"
      ],
      "text/plain": [
       "  abbr                              state  returns  exemptions      agi  year\n",
       "1   CT  CT Total Migration US and Foreign    39385       69577  3601931  2013"
      ]
     },
     "execution_count": 23,
     "metadata": {},
     "output_type": "execute_result"
    }
   ],
   "source": [
    "load12(2013)"
   ]
  },
  {
   "cell_type": "code",
   "execution_count": null,
   "metadata": {
    "collapsed": false
   },
   "outputs": [],
   "source": []
  },
  {
   "cell_type": "markdown",
   "metadata": {},
   "source": [
    "## Create non-migrant dataframes\n",
    "\n",
    "Use this data to compare the returns/exemptions/income of CT non-migrant residents to migrants leaving the state"
   ]
  },
  {
   "cell_type": "code",
   "execution_count": 24,
   "metadata": {
    "collapsed": false
   },
   "outputs": [],
   "source": [
    "nonmigrant = {}\n",
    "\n",
    "def get_nonmigrant(year,label):\n",
    "    nonmigrant[year] = outflow[year][outflow[year][\"state\"] == label]\n",
    "    return nonmigrant[year]\n"
   ]
  },
  {
   "cell_type": "code",
   "execution_count": 25,
   "metadata": {
    "collapsed": false
   },
   "outputs": [
    {
     "data": {
      "text/html": [
       "<div>\n",
       "<table border=\"1\" class=\"dataframe\">\n",
       "  <thead>\n",
       "    <tr style=\"text-align: right;\">\n",
       "      <th></th>\n",
       "      <th>abbr</th>\n",
       "      <th>state</th>\n",
       "      <th>returns</th>\n",
       "      <th>exemptions</th>\n",
       "      <th>agi</th>\n",
       "      <th>year</th>\n",
       "    </tr>\n",
       "  </thead>\n",
       "  <tbody>\n",
       "    <tr>\n",
       "      <th>53</th>\n",
       "      <td>Ct S</td>\n",
       "      <td>tate Non-Migrant</td>\n",
       "      <td>1233330</td>\n",
       "      <td>2574811</td>\n",
       "      <td>58081271</td>\n",
       "      <td>1993</td>\n",
       "    </tr>\n",
       "  </tbody>\n",
       "</table>\n",
       "</div>"
      ],
      "text/plain": [
       "    abbr             state  returns  exemptions       agi  year\n",
       "53  Ct S  tate Non-Migrant  1233330     2574811  58081271  1993"
      ]
     },
     "execution_count": 25,
     "metadata": {},
     "output_type": "execute_result"
    }
   ],
   "source": [
    "## Get 1993 non-migrant data\n",
    "get_nonmigrant(1993,\"tate Non-Migrant\")\n"
   ]
  },
  {
   "cell_type": "code",
   "execution_count": 26,
   "metadata": {
    "collapsed": false
   },
   "outputs": [
    {
     "data": {
      "text/html": [
       "<div>\n",
       "<table border=\"1\" class=\"dataframe\">\n",
       "  <thead>\n",
       "    <tr style=\"text-align: right;\">\n",
       "      <th></th>\n",
       "      <th>to</th>\n",
       "      <th>abbr</th>\n",
       "      <th>state</th>\n",
       "      <th>returns</th>\n",
       "      <th>exemptions</th>\n",
       "      <th>agi</th>\n",
       "      <th>year</th>\n",
       "    </tr>\n",
       "  </thead>\n",
       "  <tbody>\n",
       "    <tr>\n",
       "      <th>53</th>\n",
       "      <td>9</td>\n",
       "      <td>Ct</td>\n",
       "      <td>State Non-Migrant</td>\n",
       "      <td>1216708</td>\n",
       "      <td>2551533</td>\n",
       "      <td>57626608</td>\n",
       "      <td>1994</td>\n",
       "    </tr>\n",
       "  </tbody>\n",
       "</table>\n",
       "</div>"
      ],
      "text/plain": [
       "   to abbr              state  returns  exemptions       agi  year\n",
       "53  9   Ct  State Non-Migrant  1216708     2551533  57626608  1994"
      ]
     },
     "execution_count": 26,
     "metadata": {},
     "output_type": "execute_result"
    }
   ],
   "source": [
    "get_nonmigrant(1994,\"State Non-Migrant\")"
   ]
  },
  {
   "cell_type": "code",
   "execution_count": 27,
   "metadata": {
    "collapsed": false
   },
   "outputs": [
    {
     "data": {
      "text/html": [
       "<div>\n",
       "<table border=\"1\" class=\"dataframe\">\n",
       "  <thead>\n",
       "    <tr style=\"text-align: right;\">\n",
       "      <th></th>\n",
       "      <th>to</th>\n",
       "      <th>abbr</th>\n",
       "      <th>state</th>\n",
       "      <th>returns</th>\n",
       "      <th>exemptions</th>\n",
       "      <th>agi</th>\n",
       "      <th>year</th>\n",
       "    </tr>\n",
       "  </thead>\n",
       "  <tbody>\n",
       "    <tr>\n",
       "      <th>53</th>\n",
       "      <td>9</td>\n",
       "      <td>Ct</td>\n",
       "      <td>State Non-Migrant</td>\n",
       "      <td>1209762</td>\n",
       "      <td>2539958</td>\n",
       "      <td>58713546</td>\n",
       "      <td>1995</td>\n",
       "    </tr>\n",
       "  </tbody>\n",
       "</table>\n",
       "</div>"
      ],
      "text/plain": [
       "   to abbr              state  returns exemptions       agi  year\n",
       "53  9   Ct  State Non-Migrant  1209762    2539958  58713546  1995"
      ]
     },
     "execution_count": 27,
     "metadata": {},
     "output_type": "execute_result"
    }
   ],
   "source": [
    "get_nonmigrant(1995,\"State Non-Migrant\")"
   ]
  },
  {
   "cell_type": "code",
   "execution_count": 28,
   "metadata": {
    "collapsed": false
   },
   "outputs": [
    {
     "data": {
      "text/html": [
       "<div>\n",
       "<table border=\"1\" class=\"dataframe\">\n",
       "  <thead>\n",
       "    <tr style=\"text-align: right;\">\n",
       "      <th></th>\n",
       "      <th>to</th>\n",
       "      <th>abbr</th>\n",
       "      <th>state</th>\n",
       "      <th>returns</th>\n",
       "      <th>exemptions</th>\n",
       "      <th>agi</th>\n",
       "      <th>year</th>\n",
       "    </tr>\n",
       "  </thead>\n",
       "  <tbody>\n",
       "    <tr>\n",
       "      <th>4</th>\n",
       "      <td>09</td>\n",
       "      <td>CT</td>\n",
       "      <td>CT Non-Migrants</td>\n",
       "      <td>1214701</td>\n",
       "      <td>2551739</td>\n",
       "      <td>64190713</td>\n",
       "      <td>1996</td>\n",
       "    </tr>\n",
       "  </tbody>\n",
       "</table>\n",
       "</div>"
      ],
      "text/plain": [
       "   to abbr            state  returns exemptions       agi  year\n",
       "4  09   CT  CT Non-Migrants  1214701    2551739  64190713  1996"
      ]
     },
     "execution_count": 28,
     "metadata": {},
     "output_type": "execute_result"
    }
   ],
   "source": [
    "get_nonmigrant(1996,\"CT Non-Migrants\")"
   ]
  },
  {
   "cell_type": "code",
   "execution_count": 29,
   "metadata": {
    "collapsed": false
   },
   "outputs": [
    {
     "data": {
      "text/html": [
       "<div>\n",
       "<table border=\"1\" class=\"dataframe\">\n",
       "  <thead>\n",
       "    <tr style=\"text-align: right;\">\n",
       "      <th></th>\n",
       "      <th>to</th>\n",
       "      <th>abbr</th>\n",
       "      <th>state</th>\n",
       "      <th>returns</th>\n",
       "      <th>exemptions</th>\n",
       "      <th>agi</th>\n",
       "      <th>year</th>\n",
       "    </tr>\n",
       "  </thead>\n",
       "  <tbody>\n",
       "    <tr>\n",
       "      <th>4</th>\n",
       "      <td>9</td>\n",
       "      <td>CT</td>\n",
       "      <td>CT Non-Migrants</td>\n",
       "      <td>1221385</td>\n",
       "      <td>2569421</td>\n",
       "      <td>68960919</td>\n",
       "      <td>1997</td>\n",
       "    </tr>\n",
       "  </tbody>\n",
       "</table>\n",
       "</div>"
      ],
      "text/plain": [
       "  to abbr            state  returns  exemptions       agi  year\n",
       "4  9   CT  CT Non-Migrants  1221385     2569421  68960919  1997"
      ]
     },
     "execution_count": 29,
     "metadata": {},
     "output_type": "execute_result"
    }
   ],
   "source": [
    "get_nonmigrant(1997,\"CT Non-Migrants\")"
   ]
  },
  {
   "cell_type": "code",
   "execution_count": 30,
   "metadata": {
    "collapsed": false
   },
   "outputs": [
    {
     "data": {
      "text/html": [
       "<div>\n",
       "<table border=\"1\" class=\"dataframe\">\n",
       "  <thead>\n",
       "    <tr style=\"text-align: right;\">\n",
       "      <th></th>\n",
       "      <th>to</th>\n",
       "      <th>abbr</th>\n",
       "      <th>state</th>\n",
       "      <th>returns</th>\n",
       "      <th>exemptions</th>\n",
       "      <th>agi</th>\n",
       "      <th>year</th>\n",
       "    </tr>\n",
       "  </thead>\n",
       "  <tbody>\n",
       "    <tr>\n",
       "      <th>4</th>\n",
       "      <td>09</td>\n",
       "      <td>CT</td>\n",
       "      <td>CT Non-Migrants</td>\n",
       "      <td>1231278</td>\n",
       "      <td>2588083</td>\n",
       "      <td>73926815</td>\n",
       "      <td>1998</td>\n",
       "    </tr>\n",
       "  </tbody>\n",
       "</table>\n",
       "</div>"
      ],
      "text/plain": [
       "   to abbr            state  returns  exemptions       agi  year\n",
       "4  09   CT  CT Non-Migrants  1231278     2588083  73926815  1998"
      ]
     },
     "execution_count": 30,
     "metadata": {},
     "output_type": "execute_result"
    }
   ],
   "source": [
    "get_nonmigrant(1998,\"CT Non-Migrants\")"
   ]
  },
  {
   "cell_type": "code",
   "execution_count": 31,
   "metadata": {
    "collapsed": false
   },
   "outputs": [
    {
     "data": {
      "text/html": [
       "<div>\n",
       "<table border=\"1\" class=\"dataframe\">\n",
       "  <thead>\n",
       "    <tr style=\"text-align: right;\">\n",
       "      <th></th>\n",
       "      <th>to</th>\n",
       "      <th>abbr</th>\n",
       "      <th>state</th>\n",
       "      <th>returns</th>\n",
       "      <th>exemptions</th>\n",
       "      <th>agi</th>\n",
       "      <th>year</th>\n",
       "    </tr>\n",
       "  </thead>\n",
       "  <tbody>\n",
       "    <tr>\n",
       "      <th>4</th>\n",
       "      <td>09</td>\n",
       "      <td>CT</td>\n",
       "      <td>CT Non-Migrants</td>\n",
       "      <td>1251218</td>\n",
       "      <td>2627741</td>\n",
       "      <td>79815776</td>\n",
       "      <td>1999</td>\n",
       "    </tr>\n",
       "  </tbody>\n",
       "</table>\n",
       "</div>"
      ],
      "text/plain": [
       "   to abbr            state  returns  exemptions       agi  year\n",
       "4  09   CT  CT Non-Migrants  1251218     2627741  79815776  1999"
      ]
     },
     "execution_count": 31,
     "metadata": {},
     "output_type": "execute_result"
    }
   ],
   "source": [
    "get_nonmigrant(1999,\"CT Non-Migrants\")"
   ]
  },
  {
   "cell_type": "code",
   "execution_count": 32,
   "metadata": {
    "collapsed": false
   },
   "outputs": [
    {
     "data": {
      "text/html": [
       "<div>\n",
       "<table border=\"1\" class=\"dataframe\">\n",
       "  <thead>\n",
       "    <tr style=\"text-align: right;\">\n",
       "      <th></th>\n",
       "      <th>to</th>\n",
       "      <th>abbr</th>\n",
       "      <th>state</th>\n",
       "      <th>returns</th>\n",
       "      <th>exemptions</th>\n",
       "      <th>agi</th>\n",
       "      <th>year</th>\n",
       "    </tr>\n",
       "  </thead>\n",
       "  <tbody>\n",
       "    <tr>\n",
       "      <th>4</th>\n",
       "      <td>09</td>\n",
       "      <td>CT</td>\n",
       "      <td>CT Non-Migrants</td>\n",
       "      <td>1270081</td>\n",
       "      <td>2670644</td>\n",
       "      <td>87245246</td>\n",
       "      <td>2000</td>\n",
       "    </tr>\n",
       "  </tbody>\n",
       "</table>\n",
       "</div>"
      ],
      "text/plain": [
       "   to abbr            state  returns  exemptions       agi  year\n",
       "4  09   CT  CT Non-Migrants  1270081     2670644  87245246  2000"
      ]
     },
     "execution_count": 32,
     "metadata": {},
     "output_type": "execute_result"
    }
   ],
   "source": [
    "get_nonmigrant(2000,\"CT Non-Migrants\")"
   ]
  },
  {
   "cell_type": "code",
   "execution_count": 33,
   "metadata": {
    "collapsed": false
   },
   "outputs": [
    {
     "data": {
      "text/html": [
       "<div>\n",
       "<table border=\"1\" class=\"dataframe\">\n",
       "  <thead>\n",
       "    <tr style=\"text-align: right;\">\n",
       "      <th></th>\n",
       "      <th>to</th>\n",
       "      <th>abbr</th>\n",
       "      <th>state</th>\n",
       "      <th>returns</th>\n",
       "      <th>exemptions</th>\n",
       "      <th>agi</th>\n",
       "      <th>year</th>\n",
       "    </tr>\n",
       "  </thead>\n",
       "  <tbody>\n",
       "    <tr>\n",
       "      <th>4</th>\n",
       "      <td>09</td>\n",
       "      <td>CT</td>\n",
       "      <td>CT Non-Migrants</td>\n",
       "      <td>1280310</td>\n",
       "      <td>2688956</td>\n",
       "      <td>94932236</td>\n",
       "      <td>2001</td>\n",
       "    </tr>\n",
       "  </tbody>\n",
       "</table>\n",
       "</div>"
      ],
      "text/plain": [
       "   to abbr            state  returns  exemptions       agi  year\n",
       "4  09   CT  CT Non-Migrants  1280310     2688956  94932236  2001"
      ]
     },
     "execution_count": 33,
     "metadata": {},
     "output_type": "execute_result"
    }
   ],
   "source": [
    "get_nonmigrant(2001,\"CT Non-Migrants\")"
   ]
  },
  {
   "cell_type": "code",
   "execution_count": 34,
   "metadata": {
    "collapsed": false
   },
   "outputs": [
    {
     "data": {
      "text/html": [
       "<div>\n",
       "<table border=\"1\" class=\"dataframe\">\n",
       "  <thead>\n",
       "    <tr style=\"text-align: right;\">\n",
       "      <th></th>\n",
       "      <th>to</th>\n",
       "      <th>abbr</th>\n",
       "      <th>state</th>\n",
       "      <th>returns</th>\n",
       "      <th>exemptions</th>\n",
       "      <th>agi</th>\n",
       "      <th>year</th>\n",
       "    </tr>\n",
       "  </thead>\n",
       "  <tbody>\n",
       "    <tr>\n",
       "      <th>4</th>\n",
       "      <td>09</td>\n",
       "      <td>CT</td>\n",
       "      <td>CT Non-Migrants</td>\n",
       "      <td>1295421</td>\n",
       "      <td>2715895</td>\n",
       "      <td>91361107</td>\n",
       "      <td>2002</td>\n",
       "    </tr>\n",
       "  </tbody>\n",
       "</table>\n",
       "</div>"
      ],
      "text/plain": [
       "   to abbr            state  returns  exemptions       agi  year\n",
       "4  09   CT  CT Non-Migrants  1295421     2715895  91361107  2002"
      ]
     },
     "execution_count": 34,
     "metadata": {},
     "output_type": "execute_result"
    }
   ],
   "source": [
    "get_nonmigrant(2002,\"CT Non-Migrants\")"
   ]
  },
  {
   "cell_type": "code",
   "execution_count": 35,
   "metadata": {
    "collapsed": false
   },
   "outputs": [
    {
     "data": {
      "text/html": [
       "<div>\n",
       "<table border=\"1\" class=\"dataframe\">\n",
       "  <thead>\n",
       "    <tr style=\"text-align: right;\">\n",
       "      <th></th>\n",
       "      <th>to</th>\n",
       "      <th>abbr</th>\n",
       "      <th>state</th>\n",
       "      <th>returns</th>\n",
       "      <th>exemptions</th>\n",
       "      <th>agi</th>\n",
       "      <th>year</th>\n",
       "    </tr>\n",
       "  </thead>\n",
       "  <tbody>\n",
       "    <tr>\n",
       "      <th>4</th>\n",
       "      <td>09</td>\n",
       "      <td>CT</td>\n",
       "      <td>CT Non-Migrants</td>\n",
       "      <td>1302971</td>\n",
       "      <td>2745004</td>\n",
       "      <td>88871823</td>\n",
       "      <td>2003</td>\n",
       "    </tr>\n",
       "  </tbody>\n",
       "</table>\n",
       "</div>"
      ],
      "text/plain": [
       "   to abbr            state  returns  exemptions       agi  year\n",
       "4  09   CT  CT Non-Migrants  1302971     2745004  88871823  2003"
      ]
     },
     "execution_count": 35,
     "metadata": {},
     "output_type": "execute_result"
    }
   ],
   "source": [
    "get_nonmigrant(2003,\"CT Non-Migrants\")"
   ]
  },
  {
   "cell_type": "code",
   "execution_count": 36,
   "metadata": {
    "collapsed": false
   },
   "outputs": [
    {
     "data": {
      "text/html": [
       "<div>\n",
       "<table border=\"1\" class=\"dataframe\">\n",
       "  <thead>\n",
       "    <tr style=\"text-align: right;\">\n",
       "      <th></th>\n",
       "      <th>to</th>\n",
       "      <th>abbr</th>\n",
       "      <th>state</th>\n",
       "      <th>returns</th>\n",
       "      <th>exemptions</th>\n",
       "      <th>agi</th>\n",
       "      <th>year</th>\n",
       "    </tr>\n",
       "  </thead>\n",
       "  <tbody>\n",
       "    <tr>\n",
       "      <th>4</th>\n",
       "      <td>9</td>\n",
       "      <td>CT</td>\n",
       "      <td>CT Non-Migrants</td>\n",
       "      <td>1298471</td>\n",
       "      <td>2748590</td>\n",
       "      <td>90332924</td>\n",
       "      <td>2004</td>\n",
       "    </tr>\n",
       "  </tbody>\n",
       "</table>\n",
       "</div>"
      ],
      "text/plain": [
       "  to abbr            state  returns  exemptions       agi  year\n",
       "4  9   CT  CT Non-Migrants  1298471     2748590  90332924  2004"
      ]
     },
     "execution_count": 36,
     "metadata": {},
     "output_type": "execute_result"
    }
   ],
   "source": [
    "get_nonmigrant(2004,\"CT Non-Migrants\")"
   ]
  },
  {
   "cell_type": "code",
   "execution_count": 37,
   "metadata": {
    "collapsed": false
   },
   "outputs": [
    {
     "data": {
      "text/html": [
       "<div>\n",
       "<table border=\"1\" class=\"dataframe\">\n",
       "  <thead>\n",
       "    <tr style=\"text-align: right;\">\n",
       "      <th></th>\n",
       "      <th>to</th>\n",
       "      <th>abbr</th>\n",
       "      <th>state</th>\n",
       "      <th>returns</th>\n",
       "      <th>exemptions</th>\n",
       "      <th>agi</th>\n",
       "      <th>year</th>\n",
       "    </tr>\n",
       "  </thead>\n",
       "  <tbody>\n",
       "    <tr>\n",
       "      <th>3</th>\n",
       "      <td>9</td>\n",
       "      <td>CT</td>\n",
       "      <td>CT Non-Migrants</td>\n",
       "      <td>1294962</td>\n",
       "      <td>2739282</td>\n",
       "      <td>96894716</td>\n",
       "      <td>2005</td>\n",
       "    </tr>\n",
       "  </tbody>\n",
       "</table>\n",
       "</div>"
      ],
      "text/plain": [
       "   to abbr            state  returns  exemptions       agi  year\n",
       "3   9   CT  CT Non-Migrants  1294962     2739282  96894716  2005"
      ]
     },
     "execution_count": 37,
     "metadata": {},
     "output_type": "execute_result"
    }
   ],
   "source": [
    "get_nonmigrant(2005,\"CT Non-Migrants\")"
   ]
  },
  {
   "cell_type": "code",
   "execution_count": 38,
   "metadata": {
    "collapsed": false
   },
   "outputs": [
    {
     "data": {
      "text/html": [
       "<div>\n",
       "<table border=\"1\" class=\"dataframe\">\n",
       "  <thead>\n",
       "    <tr style=\"text-align: right;\">\n",
       "      <th></th>\n",
       "      <th>to</th>\n",
       "      <th>abbr</th>\n",
       "      <th>state</th>\n",
       "      <th>returns</th>\n",
       "      <th>exemptions</th>\n",
       "      <th>agi</th>\n",
       "      <th>year</th>\n",
       "    </tr>\n",
       "  </thead>\n",
       "  <tbody>\n",
       "    <tr>\n",
       "      <th>3</th>\n",
       "      <td>9</td>\n",
       "      <td>CT</td>\n",
       "      <td>CT Non-Migrants</td>\n",
       "      <td>1289941</td>\n",
       "      <td>2720319</td>\n",
       "      <td>100383499</td>\n",
       "      <td>2006</td>\n",
       "    </tr>\n",
       "  </tbody>\n",
       "</table>\n",
       "</div>"
      ],
      "text/plain": [
       "   to abbr            state  returns  exemptions        agi  year\n",
       "3   9   CT  CT Non-Migrants  1289941     2720319  100383499  2006"
      ]
     },
     "execution_count": 38,
     "metadata": {},
     "output_type": "execute_result"
    }
   ],
   "source": [
    "get_nonmigrant(2006,\"CT Non-Migrants\")"
   ]
  },
  {
   "cell_type": "code",
   "execution_count": 39,
   "metadata": {
    "collapsed": false
   },
   "outputs": [
    {
     "data": {
      "text/html": [
       "<div>\n",
       "<table border=\"1\" class=\"dataframe\">\n",
       "  <thead>\n",
       "    <tr style=\"text-align: right;\">\n",
       "      <th></th>\n",
       "      <th>to</th>\n",
       "      <th>abbr</th>\n",
       "      <th>state</th>\n",
       "      <th>returns</th>\n",
       "      <th>exemptions</th>\n",
       "      <th>agi</th>\n",
       "      <th>year</th>\n",
       "    </tr>\n",
       "  </thead>\n",
       "  <tbody>\n",
       "    <tr>\n",
       "      <th>3</th>\n",
       "      <td>9</td>\n",
       "      <td>CT</td>\n",
       "      <td>CT Non-Migrants</td>\n",
       "      <td>1300673</td>\n",
       "      <td>2723531</td>\n",
       "      <td>105079131</td>\n",
       "      <td>2007</td>\n",
       "    </tr>\n",
       "  </tbody>\n",
       "</table>\n",
       "</div>"
      ],
      "text/plain": [
       "   to abbr            state  returns  exemptions        agi  year\n",
       "3   9   CT  CT Non-Migrants  1300673     2723531  105079131  2007"
      ]
     },
     "execution_count": 39,
     "metadata": {},
     "output_type": "execute_result"
    }
   ],
   "source": [
    "get_nonmigrant(2007,\"CT Non-Migrants\")"
   ]
  },
  {
   "cell_type": "code",
   "execution_count": 40,
   "metadata": {
    "collapsed": false
   },
   "outputs": [
    {
     "data": {
      "text/html": [
       "<div>\n",
       "<table border=\"1\" class=\"dataframe\">\n",
       "  <thead>\n",
       "    <tr style=\"text-align: right;\">\n",
       "      <th></th>\n",
       "      <th>to</th>\n",
       "      <th>abbr</th>\n",
       "      <th>state</th>\n",
       "      <th>returns</th>\n",
       "      <th>exemptions</th>\n",
       "      <th>agi</th>\n",
       "      <th>year</th>\n",
       "    </tr>\n",
       "  </thead>\n",
       "  <tbody>\n",
       "    <tr>\n",
       "      <th>3</th>\n",
       "      <td>9</td>\n",
       "      <td>CT</td>\n",
       "      <td>CT Non-Migrants</td>\n",
       "      <td>1300673</td>\n",
       "      <td>2723531</td>\n",
       "      <td>105079131</td>\n",
       "      <td>2007</td>\n",
       "    </tr>\n",
       "  </tbody>\n",
       "</table>\n",
       "</div>"
      ],
      "text/plain": [
       "   to abbr            state  returns  exemptions        agi  year\n",
       "3   9   CT  CT Non-Migrants  1300673     2723531  105079131  2007"
      ]
     },
     "execution_count": 40,
     "metadata": {},
     "output_type": "execute_result"
    }
   ],
   "source": [
    "get_nonmigrant(2007,\"CT Non-Migrants\")"
   ]
  },
  {
   "cell_type": "code",
   "execution_count": 41,
   "metadata": {
    "collapsed": false
   },
   "outputs": [
    {
     "data": {
      "text/html": [
       "<div>\n",
       "<table border=\"1\" class=\"dataframe\">\n",
       "  <thead>\n",
       "    <tr style=\"text-align: right;\">\n",
       "      <th></th>\n",
       "      <th>to</th>\n",
       "      <th>abbr</th>\n",
       "      <th>state</th>\n",
       "      <th>returns</th>\n",
       "      <th>exemptions</th>\n",
       "      <th>agi</th>\n",
       "      <th>year</th>\n",
       "    </tr>\n",
       "  </thead>\n",
       "  <tbody>\n",
       "    <tr>\n",
       "      <th>4</th>\n",
       "      <td>09</td>\n",
       "      <td>CT</td>\n",
       "      <td>CT Non-Migrants</td>\n",
       "      <td>1345270</td>\n",
       "      <td>2781620</td>\n",
       "      <td>112353473</td>\n",
       "      <td>2008</td>\n",
       "    </tr>\n",
       "  </tbody>\n",
       "</table>\n",
       "</div>"
      ],
      "text/plain": [
       "   to abbr            state  returns  exemptions        agi  year\n",
       "4  09   CT  CT Non-Migrants  1345270     2781620  112353473  2008"
      ]
     },
     "execution_count": 41,
     "metadata": {},
     "output_type": "execute_result"
    }
   ],
   "source": [
    "get_nonmigrant(2008,\"CT Non-Migrants\")"
   ]
  },
  {
   "cell_type": "code",
   "execution_count": 42,
   "metadata": {
    "collapsed": false
   },
   "outputs": [
    {
     "data": {
      "text/html": [
       "<div>\n",
       "<table border=\"1\" class=\"dataframe\">\n",
       "  <thead>\n",
       "    <tr style=\"text-align: right;\">\n",
       "      <th></th>\n",
       "      <th>to</th>\n",
       "      <th>abbr</th>\n",
       "      <th>state</th>\n",
       "      <th>returns</th>\n",
       "      <th>exemptions</th>\n",
       "      <th>agi</th>\n",
       "      <th>year</th>\n",
       "    </tr>\n",
       "  </thead>\n",
       "  <tbody>\n",
       "    <tr>\n",
       "      <th>4</th>\n",
       "      <td>09</td>\n",
       "      <td>CT</td>\n",
       "      <td>CT Non-Migrants</td>\n",
       "      <td>1360079</td>\n",
       "      <td>2803701</td>\n",
       "      <td>108996493</td>\n",
       "      <td>2009</td>\n",
       "    </tr>\n",
       "  </tbody>\n",
       "</table>\n",
       "</div>"
      ],
      "text/plain": [
       "   to abbr            state  returns  exemptions        agi  year\n",
       "4  09   CT  CT Non-Migrants  1360079     2803701  108996493  2009"
      ]
     },
     "execution_count": 42,
     "metadata": {},
     "output_type": "execute_result"
    }
   ],
   "source": [
    "get_nonmigrant(2009,\"CT Non-Migrants\")"
   ]
  },
  {
   "cell_type": "code",
   "execution_count": 43,
   "metadata": {
    "collapsed": false
   },
   "outputs": [
    {
     "data": {
      "text/html": [
       "<div>\n",
       "<table border=\"1\" class=\"dataframe\">\n",
       "  <thead>\n",
       "    <tr style=\"text-align: right;\">\n",
       "      <th></th>\n",
       "      <th>abbr</th>\n",
       "      <th>state</th>\n",
       "      <th>returns</th>\n",
       "      <th>exemptions</th>\n",
       "      <th>agi</th>\n",
       "      <th>year</th>\n",
       "    </tr>\n",
       "  </thead>\n",
       "  <tbody>\n",
       "    <tr>\n",
       "      <th>5</th>\n",
       "      <td>CT</td>\n",
       "      <td>CT Non-Migrants</td>\n",
       "      <td>1348693</td>\n",
       "      <td>2789649</td>\n",
       "      <td>101699729</td>\n",
       "      <td>2010</td>\n",
       "    </tr>\n",
       "  </tbody>\n",
       "</table>\n",
       "</div>"
      ],
      "text/plain": [
       "  abbr            state  returns exemptions        agi  year\n",
       "5   CT  CT Non-Migrants  1348693    2789649  101699729  2010"
      ]
     },
     "execution_count": 43,
     "metadata": {},
     "output_type": "execute_result"
    }
   ],
   "source": [
    "get_nonmigrant(2010,\"CT Non-Migrants\")"
   ]
  },
  {
   "cell_type": "code",
   "execution_count": 44,
   "metadata": {
    "collapsed": false
   },
   "outputs": [
    {
     "data": {
      "text/html": [
       "<div>\n",
       "<table border=\"1\" class=\"dataframe\">\n",
       "  <thead>\n",
       "    <tr style=\"text-align: right;\">\n",
       "      <th></th>\n",
       "      <th>abbr</th>\n",
       "      <th>state</th>\n",
       "      <th>returns</th>\n",
       "      <th>exemptions</th>\n",
       "      <th>agi</th>\n",
       "      <th>year</th>\n",
       "    </tr>\n",
       "  </thead>\n",
       "  <tbody>\n",
       "    <tr>\n",
       "      <th>5</th>\n",
       "      <td>CT</td>\n",
       "      <td>CT Non-Migrants</td>\n",
       "      <td>1343294</td>\n",
       "      <td>2774447</td>\n",
       "      <td>106050133</td>\n",
       "      <td>2011</td>\n",
       "    </tr>\n",
       "  </tbody>\n",
       "</table>\n",
       "</div>"
      ],
      "text/plain": [
       "  abbr            state  returns  exemptions        agi  year\n",
       "5   CT  CT Non-Migrants  1343294     2774447  106050133  2011"
      ]
     },
     "execution_count": 44,
     "metadata": {},
     "output_type": "execute_result"
    }
   ],
   "source": [
    "get_nonmigrant(2011,\"CT Non-Migrants\")"
   ]
  },
  {
   "cell_type": "code",
   "execution_count": 45,
   "metadata": {
    "collapsed": false
   },
   "outputs": [
    {
     "data": {
      "text/html": [
       "<div>\n",
       "<table border=\"1\" class=\"dataframe\">\n",
       "  <thead>\n",
       "    <tr style=\"text-align: right;\">\n",
       "      <th></th>\n",
       "      <th>abbr</th>\n",
       "      <th>state</th>\n",
       "      <th>returns</th>\n",
       "      <th>exemptions</th>\n",
       "      <th>agi</th>\n",
       "      <th>year</th>\n",
       "    </tr>\n",
       "  </thead>\n",
       "  <tbody>\n",
       "    <tr>\n",
       "      <th>4</th>\n",
       "      <td>CT</td>\n",
       "      <td>CT Non-migrants</td>\n",
       "      <td>1367856</td>\n",
       "      <td>2870405</td>\n",
       "      <td>133130211</td>\n",
       "      <td>2012</td>\n",
       "    </tr>\n",
       "  </tbody>\n",
       "</table>\n",
       "</div>"
      ],
      "text/plain": [
       "  abbr            state  returns  exemptions        agi  year\n",
       "4   CT  CT Non-migrants  1367856     2870405  133130211  2012"
      ]
     },
     "execution_count": 45,
     "metadata": {},
     "output_type": "execute_result"
    }
   ],
   "source": [
    "get_nonmigrant(2012,\"CT Non-migrants\")"
   ]
  },
  {
   "cell_type": "code",
   "execution_count": 46,
   "metadata": {
    "collapsed": false
   },
   "outputs": [
    {
     "data": {
      "text/html": [
       "<div>\n",
       "<table border=\"1\" class=\"dataframe\">\n",
       "  <thead>\n",
       "    <tr style=\"text-align: right;\">\n",
       "      <th></th>\n",
       "      <th>abbr</th>\n",
       "      <th>state</th>\n",
       "      <th>returns</th>\n",
       "      <th>exemptions</th>\n",
       "      <th>agi</th>\n",
       "      <th>year</th>\n",
       "    </tr>\n",
       "  </thead>\n",
       "  <tbody>\n",
       "    <tr>\n",
       "      <th>4</th>\n",
       "      <td>CT</td>\n",
       "      <td>CT Non-migrants</td>\n",
       "      <td>1365345</td>\n",
       "      <td>2855206</td>\n",
       "      <td>142228765</td>\n",
       "      <td>2013</td>\n",
       "    </tr>\n",
       "  </tbody>\n",
       "</table>\n",
       "</div>"
      ],
      "text/plain": [
       "  abbr            state  returns  exemptions        agi  year\n",
       "4   CT  CT Non-migrants  1365345     2855206  142228765  2013"
      ]
     },
     "execution_count": 46,
     "metadata": {},
     "output_type": "execute_result"
    }
   ],
   "source": [
    "get_nonmigrant(2013,\"CT Non-migrants\")"
   ]
  },
  {
   "cell_type": "markdown",
   "metadata": {},
   "source": [
    "## Merge frame sets together"
   ]
  },
  {
   "cell_type": "code",
   "execution_count": 47,
   "metadata": {
    "collapsed": false
   },
   "outputs": [
    {
     "name": "stderr",
     "output_type": "stream",
     "text": [
      "/usr/local/lib/python2.7/site-packages/ipykernel/__main__.py:21: SettingWithCopyWarning: \n",
      "A value is trying to be set on a copy of a slice from a DataFrame.\n",
      "Try using .loc[row_indexer,col_indexer] = value instead\n",
      "\n",
      "See the caveats in the documentation: http://pandas.pydata.org/pandas-docs/stable/indexing.html#indexing-view-versus-copy\n"
     ]
    },
    {
     "name": "stdout",
     "output_type": "stream",
     "text": [
      "1993\n",
      "1994\n",
      "1995\n",
      "1996\n",
      "1997\n",
      "1998\n",
      "1999\n",
      "2000\n",
      "2001\n"
     ]
    },
    {
     "name": "stderr",
     "output_type": "stream",
     "text": [
      "/usr/local/lib/python2.7/site-packages/ipykernel/__main__.py:34: SettingWithCopyWarning: \n",
      "A value is trying to be set on a copy of a slice from a DataFrame.\n",
      "Try using .loc[row_indexer,col_indexer] = value instead\n",
      "\n",
      "See the caveats in the documentation: http://pandas.pydata.org/pandas-docs/stable/indexing.html#indexing-view-versus-copy\n"
     ]
    },
    {
     "name": "stdout",
     "output_type": "stream",
     "text": [
      "2002\n",
      "2003\n",
      "2004\n",
      "2005\n",
      "2006\n",
      "2007\n",
      "2008\n",
      "2009\n",
      "2010\n",
      "2011\n",
      "2012\n",
      "2013\n"
     ]
    },
    {
     "data": {
      "text/plain": [
       "2013    2\n",
       "2002    2\n",
       "1994    2\n",
       "1995    2\n",
       "1996    2\n",
       "1997    2\n",
       "1998    2\n",
       "1999    2\n",
       "2000    2\n",
       "2001    2\n",
       "2003    2\n",
       "2012    2\n",
       "2004    2\n",
       "2005    2\n",
       "2006    2\n",
       "2007    2\n",
       "2008    2\n",
       "2009    2\n",
       "2010    2\n",
       "2011    2\n",
       "1993    2\n",
       "Name: year, dtype: int64"
      ]
     },
     "execution_count": 47,
     "metadata": {},
     "output_type": "execute_result"
    }
   ],
   "source": [
    "## Create monolithic frame containing returns, exemptions agi and year \n",
    "## for two groups per year: out-flowing migrants and non-migrant residents\n",
    "\n",
    "## Build first year manually\n",
    "key = 0\n",
    "totals\n",
    "mono = totals[1993]\n",
    "mono = mono[mono[\"state\"].notnull()]\n",
    "\n",
    "mono = mono.drop(\"state\",1)\n",
    "mono = mono.drop(\"abbr\",1)\n",
    "#mono = mono.drop(\"key\",1)\n",
    "#mono[mono[\"state\"].notnull,\"key\"] = 0\n",
    "\n",
    "# Delete first row\n",
    "mono = mono.drop(1,0)\n",
    "\n",
    "for year in nonmigrant:\n",
    "    nonm_row = nonmigrant[year]\n",
    "    #nonm_row[\"key\"] = key\n",
    "    nonm_row[\"type\"] = \"nonmigrants\"\n",
    "    nonm_row = nonm_row.drop(\"state\",1)\n",
    "    nonm_row = nonm_row.drop(\"abbr\",1)\n",
    "    #print nonm_row\n",
    "    key += 1\n",
    "    mono = mono.append(nonm_row)\n",
    "    \n",
    "#print \"--\" * 20    \n",
    "    \n",
    "for year in totals:\n",
    "    print year\n",
    "    tot_row =totals[year]\n",
    "    #tot_row[\"key\"] = key\n",
    "    tot_row[\"type\"] = \"out-migrants\"\n",
    "    tot_row = tot_row.drop(\"state\",1)\n",
    "    tot_row = tot_row.drop(\"abbr\",1)\n",
    "\n",
    "    #print tot_row\n",
    "    key += 1\n",
    "    \n",
    "    mono = mono.append(tot_row)\n",
    "        \n",
    "mono = mono.drop(\"to\",1)\n",
    "mono[\"year\"].value_counts()\n",
    "#mono.sort_values(by=\"year\")"
   ]
  },
  {
   "cell_type": "code",
   "execution_count": 48,
   "metadata": {
    "collapsed": false
   },
   "outputs": [
    {
     "name": "stdout",
     "output_type": "stream",
     "text": [
      "91470244.4762\n",
      "3006155.61905\n"
     ]
    }
   ],
   "source": [
    "mono[\"avg\"] = mono[\"agi\"] / mono[\"returns\"]\n",
    "print mono[mono[\"type\"] == \"nonmigrants\"][\"agi\"].mean()\n",
    "print mono[mono[\"type\"] == \"out-migrants\"][\"agi\"].mean()"
   ]
  },
  {
   "cell_type": "code",
   "execution_count": 49,
   "metadata": {
    "collapsed": true
   },
   "outputs": [],
   "source": [
    "def outmigrants(year):\n",
    "    return mono[(mono[\"type\"] == \"out-migrants\")&(mono[\"year\"] == year)]\n",
    "\n",
    "def nonmigrants(year):\n",
    "    return mono[(mono[\"type\"] == \"nonmigrants\")&(mono[\"year\"] == year)]\n",
    "\n",
    "def inmigrants(year):\n",
    "    return mono[(mono[\"type\"] == \"in-migrants\")&(mono[\"year\"] == year)]"
   ]
  },
  {
   "cell_type": "code",
   "execution_count": 50,
   "metadata": {
    "collapsed": false
   },
   "outputs": [
    {
     "data": {
      "text/html": [
       "<div>\n",
       "<table border=\"1\" class=\"dataframe\">\n",
       "  <thead>\n",
       "    <tr style=\"text-align: right;\">\n",
       "      <th></th>\n",
       "      <th>agi</th>\n",
       "      <th>exemptions</th>\n",
       "      <th>returns</th>\n",
       "      <th>type</th>\n",
       "      <th>year</th>\n",
       "      <th>avg</th>\n",
       "    </tr>\n",
       "  </thead>\n",
       "  <tbody>\n",
       "  </tbody>\n",
       "</table>\n",
       "</div>"
      ],
      "text/plain": [
       "Empty DataFrame\n",
       "Columns: [agi, exemptions, returns, type, year, avg]\n",
       "Index: []"
      ]
     },
     "execution_count": 50,
     "metadata": {},
     "output_type": "execute_result"
    }
   ],
   "source": [
    "inmigrants(1993)"
   ]
  },
  {
   "cell_type": "code",
   "execution_count": 51,
   "metadata": {
    "collapsed": false
   },
   "outputs": [
    {
     "data": {
      "text/html": [
       "<div>\n",
       "<table border=\"1\" class=\"dataframe\">\n",
       "  <thead>\n",
       "    <tr style=\"text-align: right;\">\n",
       "      <th></th>\n",
       "      <th>agi</th>\n",
       "      <th>exemptions</th>\n",
       "      <th>returns</th>\n",
       "      <th>type</th>\n",
       "      <th>year</th>\n",
       "      <th>avg</th>\n",
       "    </tr>\n",
       "  </thead>\n",
       "  <tbody>\n",
       "    <tr>\n",
       "      <th>53</th>\n",
       "      <td>5.80813e+07</td>\n",
       "      <td>2.57481e+06</td>\n",
       "      <td>1.23333e+06</td>\n",
       "      <td>nonmigrants</td>\n",
       "      <td>1993</td>\n",
       "      <td>47.093</td>\n",
       "    </tr>\n",
       "  </tbody>\n",
       "</table>\n",
       "</div>"
      ],
      "text/plain": [
       "            agi   exemptions      returns         type  year     avg\n",
       "53  5.80813e+07  2.57481e+06  1.23333e+06  nonmigrants  1993  47.093"
      ]
     },
     "execution_count": 51,
     "metadata": {},
     "output_type": "execute_result"
    }
   ],
   "source": [
    "nonmigrants(1993)\n"
   ]
  },
  {
   "cell_type": "code",
   "execution_count": 52,
   "metadata": {
    "collapsed": false
   },
   "outputs": [
    {
     "data": {
      "text/html": [
       "<div>\n",
       "<table border=\"1\" class=\"dataframe\">\n",
       "  <thead>\n",
       "    <tr style=\"text-align: right;\">\n",
       "      <th></th>\n",
       "      <th>agi</th>\n",
       "      <th>exemptions</th>\n",
       "      <th>returns</th>\n",
       "      <th>type</th>\n",
       "      <th>year</th>\n",
       "      <th>avg</th>\n",
       "    </tr>\n",
       "  </thead>\n",
       "  <tbody>\n",
       "    <tr>\n",
       "      <th>1</th>\n",
       "      <td>2.06026e+06</td>\n",
       "      <td>83912</td>\n",
       "      <td>46731</td>\n",
       "      <td>out-migrants</td>\n",
       "      <td>1993</td>\n",
       "      <td>44.0877</td>\n",
       "    </tr>\n",
       "  </tbody>\n",
       "</table>\n",
       "</div>"
      ],
      "text/plain": [
       "           agi exemptions returns          type  year      avg\n",
       "1  2.06026e+06      83912   46731  out-migrants  1993  44.0877"
      ]
     },
     "execution_count": 52,
     "metadata": {},
     "output_type": "execute_result"
    }
   ],
   "source": [
    "outmigrants(1993)"
   ]
  },
  {
   "cell_type": "markdown",
   "metadata": {},
   "source": [
    "## Add in-flow data"
   ]
  },
  {
   "cell_type": "code",
   "execution_count": 53,
   "metadata": {
    "collapsed": false
   },
   "outputs": [
    {
     "name": "stdout",
     "output_type": "stream",
     "text": [
      "Index([u'agi', u'exemptions', u'returns', u'type', u'year', u'avg'], dtype='object')\n"
     ]
    },
    {
     "name": "stderr",
     "output_type": "stream",
     "text": [
      "/usr/local/lib/python2.7/site-packages/ipykernel/__main__.py:5: SettingWithCopyWarning: \n",
      "A value is trying to be set on a copy of a slice from a DataFrame.\n",
      "Try using .loc[row_indexer,col_indexer] = value instead\n",
      "\n",
      "See the caveats in the documentation: http://pandas.pydata.org/pandas-docs/stable/indexing.html#indexing-view-versus-copy\n"
     ]
    },
    {
     "data": {
      "text/plain": [
       "out-migrants    21\n",
       "in-migrants     21\n",
       "nonmigrants     21\n",
       "Name: type, dtype: int64"
      ]
     },
     "execution_count": 53,
     "metadata": {},
     "output_type": "execute_result"
    }
   ],
   "source": [
    "print mono.columns\n",
    "for year in in_totals:\n",
    "    inrow = in_totals[year]\n",
    "    inrow = inrow[[\"agi\",\"exemptions\",\"returns\",\"year\"]]\n",
    "    inrow[\"type\"] = \"in-migrants\"\n",
    "    \n",
    "    mono = mono.append(inrow)\n",
    "    #print inrow.columns\n",
    "mono[\"type\"].value_counts()"
   ]
  },
  {
   "cell_type": "markdown",
   "metadata": {},
   "source": [
    "## Summarize with in-flow and outflow data"
   ]
  },
  {
   "cell_type": "code",
   "execution_count": 54,
   "metadata": {
    "collapsed": false
   },
   "outputs": [],
   "source": [
    "## Helper functions\n",
    "def dollars(num):\n",
    "    return \"${:,.2f}\".format(num)\n",
    "\n",
    "def money (num):\n",
    "    return \"${:,.2f}\".format(num / (1000*1000*1000)) + \" billion\"\n",
    "last = 0\n",
    "\n",
    "def billion(num):\n",
    "    return round(float(num) / (1000 * 1000 * 1000), 2)\n"
   ]
  },
  {
   "cell_type": "code",
   "execution_count": null,
   "metadata": {
    "collapsed": true
   },
   "outputs": [],
   "source": []
  },
  {
   "cell_type": "code",
   "execution_count": 55,
   "metadata": {
    "collapsed": false
   },
   "outputs": [
    {
     "name": "stdout",
     "output_type": "stream",
     "text": [
      "Out: $44,088.00\n",
      "In: $50,654.00\n",
      "Stay: $47,093.00\n",
      "1993: -3,005.00\n",
      "pct diff: -6.00\n",
      "======================================\n",
      "Out: $44,994.00\n",
      "In: $52,431.00\n",
      "Stay: $47,363.00\n",
      "1994: -2,369.00\n",
      "pct diff: -5.00\n",
      "======================================\n",
      "Out: $46,112.00\n",
      "In: $49,277.00\n",
      "Stay: $48,533.00\n",
      "1995: -2,421.00\n",
      "pct diff: -5.00\n",
      "======================================\n",
      "Out: $50,638.00\n",
      "In: $53,376.00\n",
      "Stay: $52,844.00\n",
      "1996: -2,206.00\n",
      "pct diff: -5.00\n",
      "======================================\n",
      "Out: $54,439.00\n",
      "In: $57,717.00\n",
      "Stay: $56,461.00\n",
      "1997: -2,022.00\n",
      "pct diff: -4.00\n",
      "======================================\n",
      "Out: $60,335.00\n",
      "In: $58,688.00\n",
      "Stay: $60,041.00\n",
      "1998: 294.00\n",
      "pct diff: 0.00\n",
      "======================================\n",
      "Out: $65,131.00\n",
      "In: $64,759.00\n",
      "Stay: $63,790.00\n",
      "1999: 1,340.00\n",
      "pct diff: 2.00\n",
      "======================================\n",
      "Out: $71,420.00\n",
      "In: $69,042.00\n",
      "Stay: $68,693.00\n",
      "2000: 2,727.00\n",
      "pct diff: 4.00\n",
      "======================================\n",
      "Out: $76,723.00\n",
      "In: $72,408.00\n",
      "Stay: $74,148.00\n",
      "2001: 2,576.00\n",
      "pct diff: 3.00\n",
      "======================================\n",
      "Out: $68,837.00\n",
      "In: $67,900.00\n",
      "Stay: $70,526.00\n",
      "2002: -1,690.00\n",
      "pct diff: -2.00\n",
      "======================================\n",
      "Out: $62,229.00\n",
      "In: $65,064.00\n",
      "Stay: $68,207.00\n",
      "2003: -5,978.00\n",
      "pct diff: -9.00\n",
      "======================================\n",
      "Out: $65,949.00\n",
      "In: $67,264.00\n",
      "Stay: $69,569.00\n",
      "2004: -3,619.00\n",
      "pct diff: -5.00\n",
      "======================================\n",
      "Out: $67,239.00\n",
      "In: $70,781.00\n",
      "Stay: $74,824.00\n",
      "2005: -7,585.00\n",
      "pct diff: -11.00\n",
      "======================================\n",
      "Out: $69,603.00\n",
      "In: $69,470.00\n",
      "Stay: $77,820.00\n",
      "2006: -8,217.00\n",
      "pct diff: -11.00\n",
      "======================================\n",
      "Out: $75,291.00\n",
      "In: $70,750.00\n",
      "Stay: $80,788.00\n",
      "2007: -5,497.00\n",
      "pct diff: -7.00\n",
      "======================================\n",
      "Out: $80,161.00\n",
      "In: $74,552.00\n",
      "Stay: $83,517.00\n",
      "2008: -3,356.00\n",
      "pct diff: -4.00\n",
      "======================================\n",
      "Out: $69,470.00\n",
      "In: $67,983.00\n",
      "Stay: $80,140.00\n",
      "2009: -10,669.00\n",
      "pct diff: -13.00\n",
      "======================================\n",
      "Out: $64,132.00\n",
      "In: $65,853.00\n",
      "Stay: $75,406.00\n",
      "2010: -11,274.00\n",
      "pct diff: -15.00\n",
      "======================================\n",
      "Out: $65,172.00\n",
      "In: $73,614.00\n",
      "Stay: $78,948.00\n",
      "2011: -13,776.00\n",
      "pct diff: -17.00\n",
      "======================================\n",
      "Out: $111,398.00\n",
      "In: $81,031.00\n",
      "Stay: $97,328.00\n",
      "2012: 14,070.00\n",
      "pct diff: 14.00\n",
      "======================================\n",
      "Out: $111,754.00\n",
      "In: $91,454.00\n",
      "Stay: $104,171.00\n",
      "2013: 7,583.00\n",
      "pct diff: 7.00\n",
      "======================================\n",
      "NET LOSSES: 20\n",
      "NET GAINS: 1\n"
     ]
    }
   ],
   "source": [
    "## Summarize results and see if it makes sense:\n",
    "\n",
    "net_gains = 0\n",
    "net_losses = 0\n",
    "\n",
    "def summarize(year):\n",
    "    global net_gains, net_losses\n",
    "    \n",
    "    outm = outmigrants(year)\n",
    "    nonm = nonmigrants(year)\n",
    "    inm = inmigrants(year)\n",
    "    \n",
    "    returns_out = outm.iloc[0][\"returns\"]\n",
    "    dollars_out = outm.iloc[0][\"agi\"] * 1000\n",
    "    avg_out = dollars_out / returns_out\n",
    "    \n",
    "    returns_non = nonm.iloc[0][\"returns\"]\n",
    "    dollars_non = nonm.iloc[0][\"agi\"] * 1000\n",
    "    avg_non = dollars_non / returns_non\n",
    "    \n",
    "    returns_in = inm.iloc[0][\"returns\"]\n",
    "    dollars_in = inm.iloc[0][\"agi\"] * 1000\n",
    "    avg_in = dollars_in / returns_in\n",
    "        \n",
    "    #print \"----\" * 10\n",
    "    #print \"In \" + str(year) + \", \" + str(returns_out) + \" former residents filed taxes in another state\"\n",
    "    #print \"\\twith an aggregate gross income of \" + str(dollars_out) + \".\"\n",
    "    #print \"\\tMeanwhile, \" + str(returns_non) + \" non-migrant residents filed taxes with an AGI of \" + str(dollars_out) + \".\"\n",
    "    #print \"====\" * 10\n",
    "    \n",
    "   # print \"----\" * 4 + \"[\" + str(year) + \"]\" + \"----\" * 4\n",
    "    print \"Out: ${:,.2f}\".format(round(avg_out))\n",
    "    #print \"Dollars out: ${:,.2f}\".format(round(dollars_out))\n",
    "    #print \"Avg $$ out : ${:,.2f}\".format(round(dollars_out / returns_out))\n",
    "    #print \"\"\n",
    "    print \"In: ${:,.2f}\".format(round(avg_in))\n",
    "\n",
    "    print \"Stay: ${:,.2f}\".format(round(avg_non))\n",
    "    #print \"Dollars non: ${:,.2f}\".format(round(dollars_non))\n",
    "    #print \"Avg $$ non : ${:,.2f}\".format(round(dollars_non / returns_non))\n",
    "    #print \"\"\n",
    "    \n",
    "    avg_diff = avg_out - avg_non\n",
    "    avg_pct_diff = avg_diff * 100 / avg_non\n",
    "    print str(year) + \": {:,.2f}\".format(round(avg_diff))\n",
    "    print \"pct diff: {:,.2f}\".format(round(avg_pct_diff))\n",
    "    print \"====\" * (8) + \"======\"\n",
    "\n",
    "    if dollars_in < dollars_out:\n",
    "        net_losses += 1\n",
    "    elif dollars_in > dollars_out:\n",
    "        net_gains  +=1\n",
    "for year in totals.keys():\n",
    "    summarize(year)\n",
    "\n",
    "print \"NET LOSSES: \" + str(net_losses)\n",
    "print \"NET GAINS: \" + str(net_gains)"
   ]
  },
  {
   "cell_type": "markdown",
   "metadata": {},
   "source": [
    "# Chart 1: Simple in-flow versus out-flow"
   ]
  },
  {
   "cell_type": "code",
   "execution_count": 56,
   "metadata": {
    "collapsed": false
   },
   "outputs": [
    {
     "name": "stdout",
     "output_type": "stream",
     "text": [
      "year\tin-flow\tout-flow\n",
      "1993\t1.68\t2.06\n",
      "1994\t1.72\t2.06\n",
      "1995\t1.74\t2.14\n",
      "1996\t1.8\t2.25\n",
      "1997\t2.06\t2.5\n",
      "1998\t2.17\t2.71\n",
      "1999\t2.46\t2.84\n",
      "2000\t2.72\t3.11\n",
      "2001\t2.84\t3.36\n",
      "2002\t2.72\t2.91\n",
      "2003\t2.57\t2.56\n",
      "2004\t2.51\t2.91\n",
      "2005\t2.7\t3.01\n",
      "2006\t2.66\t3.18\n",
      "2007\t2.59\t3.36\n",
      "2008\t2.84\t3.55\n",
      "2009\t2.47\t2.87\n",
      "2010\t2.13\t2.48\n",
      "2011\t2.49\t2.68\n",
      "2012\t3.17\t5.19\n",
      "2013\t3.6\t5.4\n",
      "{}\n"
     ]
    }
   ],
   "source": [
    "## CHART 1\n",
    "# Net wealth change among people moving in and out of the state\n",
    "\n",
    "ret = {}\n",
    "\n",
    "print \"year\\tin-flow\\tout-flow\"#\\tnet\"\n",
    "for year in totals.keys():\n",
    "    inm = inmigrants(year)\n",
    "    outm = outmigrants(year)\n",
    "    nonm = nonmigrants(year)\n",
    "    \n",
    "    money_in = inm.iloc[0][\"agi\"] * 1000\n",
    "    money_out = outm.iloc[0][\"agi\"] * 1000\n",
    "    money_non = nonm.iloc[0][\"agi\"] * 1000\n",
    "    money_net = money_in - money_out\n",
    "    \n",
    "    people_in = inm.iloc[0][\"returns\"] \n",
    "    people_out = outm.iloc[0][\"returns\"] \n",
    "    people_non = nonm.iloc[0][\"returns\"]\n",
    "    people_net = people_in - people_out\n",
    "    \n",
    "    money_avg_in = money_in / people_in\n",
    "    money_avg_out = money_out / people_out\n",
    "    \n",
    "    diff_avg = money_avg_in - money_avg_out\n",
    "    \n",
    "    net_people = people_in - people_out\n",
    "    net_money = money_in - money_out\n",
    "    \n",
    "    #print \"----[\" + str(year) + \"]----\"\n",
    "    #print \"    \\tPEOPLE\\tMONEY\\t\\tINCOME\"\n",
    "    #print \"IN:\\t\" + str(int(people_in)) + \"\\t\" + str(round(money_in)) + \"\\t\" +  str(round(money_avg_in))\n",
    "    #print \"OUT:\\t\" + str(int(people_out)) + \"\\t\" +  str(round(money_out)) + \"\\t\" +  str(round(money_avg_out))\n",
    "    #print \"DIFF:\\t\" + str(int(people_net)) + \"\\t\" + str(round(money_net)) + \"\\t\" + str(round(money_avg_in - money_avg_out))\n",
    "    #print \"NON:\\t\" + str(int(people_non)) + \"\\t\" +  str(round(money_non)) + \"\\t\" +  str(round(money_non / people_non))\n",
    "\n",
    "    #print \"NET WEALTH CHANGE: {:,.2f}\".format(int(money_net))\n",
    "    #print \"NET PEOPLE CHANGE: \" + str(int(people_net))\n",
    "    #print money_in\n",
    "    #print money_out\n",
    "    #print net_money\n",
    "    print str(year) + \"\\t\" + str(billion(money_in)) + \"\\t\" + str(billion(money_out))# + \"\\t\" + str(billion(net_money))\n",
    "    #print \"--\"\n",
    "print ret\n"
   ]
  },
  {
   "cell_type": "markdown",
   "metadata": {},
   "source": [
    "# Chart 2: Wealth of people in state (new and existing residents)\n"
   ]
  },
  {
   "cell_type": "code",
   "execution_count": 57,
   "metadata": {
    "collapsed": false
   },
   "outputs": [
    {
     "name": "stdout",
     "output_type": "stream",
     "text": [
      "year\twealth\tchange\n",
      "1993\t59.76\t59.76\n",
      "1994\t59.34\t-0.42\n",
      "1995\t60.45\t1.1\n",
      "1996\t65.99\t5.54\n",
      "1997\t71.02\t5.02\n",
      "1998\t76.1\t5.08\n",
      "1999\t82.27\t6.18\n",
      "2000\t89.96\t7.69\n",
      "2001\t97.77\t7.81\n",
      "2002\t94.08\t-3.69\n",
      "2003\t91.44\t-2.65\n",
      "2004\t92.84\t1.4\n",
      "2005\t99.59\t6.75\n",
      "2006\t103.04\t3.45\n",
      "2007\t107.67\t4.63\n",
      "2008\t115.19\t7.52\n",
      "2009\t111.46\t-3.73\n",
      "2010\t103.83\t-7.63\n",
      "2011\t108.54\t4.71\n",
      "2012\t136.3\t27.75\n",
      "2013\t145.83\t9.54\n",
      "Gains: 15\n",
      "Losses: 5\n"
     ]
    }
   ],
   "source": [
    "## CHART 2\n",
    "\n",
    "## year-over-year wealth of people in the state (whether they moved in or stayed here)\n",
    "\n",
    "gains = -1\n",
    "losses = 0\n",
    "print \"year\\twealth\\tchange\"\n",
    "for year in totals.keys():\n",
    "    inm = inmigrants(year)\n",
    "    nonm = nonmigrants(year)\n",
    "    \n",
    "    #print inm.iloc[0][\"agi\"]\n",
    "    \n",
    "    wealth = nonm.iloc[0][\"agi\"] * 1000 + inm.iloc[0][\"agi\"] * 1000\n",
    "    diff = wealth - last\n",
    "    last = wealth\n",
    "    #print str(year) + \"\\t\" + money(wealth) + \"\\t\" + money(diff)\n",
    "    print str(year) + \"\\t\" + str(billion(wealth)) + \"\\t\" + str(billion(diff))\n",
    "    \n",
    "    if (diff) > 0:\n",
    "        gains += 1\n",
    "    else:\n",
    "        losses += 1\n",
    "\n",
    "print \"Gains: \" + str(gains)\n",
    "print \"Losses: \" + str(losses)"
   ]
  },
  {
   "cell_type": "markdown",
   "metadata": {},
   "source": [
    "# Chart 3: Income (averaged per person)"
   ]
  },
  {
   "cell_type": "code",
   "execution_count": 58,
   "metadata": {
    "collapsed": false
   },
   "outputs": [
    {
     "name": "stdout",
     "output_type": "stream",
     "text": [
      "year\tin-migrants\tout-migrants\tnon-migrants\n",
      "1993\t50653\t44087\t47093\n",
      "1994\t52430\t44993\t47362\n",
      "1995\t49277\t46112\t48533\n",
      "1996\t53376\t50638\t52844\n",
      "1997\t57716\t54438\t56461\n",
      "1998\t58688\t60334\t60040\n",
      "1999\t64759\t65130\t63790\n",
      "2000\t69042\t71419\t68692\n",
      "2001\t72408\t76723\t74147\n",
      "2002\t67900\t68836\t70526\n",
      "2003\t65064\t62229\t68207\n",
      "2004\t67263\t65949\t69568\n",
      "2005\t70781\t67239\t74824\n",
      "2006\t69469\t69603\t77820\n",
      "2007\t70750\t75291\t80788\n",
      "2008\t74552\t80161\t83517\n",
      "2009\t67982\t69470\t80139\n",
      "2010\t65853\t64131\t75406\n",
      "2011\t73614\t65171\t78947\n",
      "2012\t81030\t111397\t97327\n",
      "2013\t91454\t111753\t104170\n"
     ]
    }
   ],
   "source": [
    "## CHART 3\n",
    "\n",
    "## Per-return income for in-migrants, out-migrants and non-migrants\n",
    "\n",
    "print \"year\\tin-migrants\\tout-migrants\\tnon-migrants\"\n",
    "\n",
    "def money_people_average(row):\n",
    "    money = row.iloc[0][\"agi\"] * 1000\n",
    "    people = row.iloc[0][\"returns\"]\n",
    "    avg = money/people\n",
    "    return (money,people, avg)\n",
    "\n",
    "for year in totals.keys():\n",
    "    inm = money_people_average(inmigrants(year))\n",
    "    outm = money_people_average(outmigrants(year))\n",
    "    nonm = money_people_average(nonmigrants(year))\n",
    "\n",
    "    print str(year) + \"\\t\" + str(int(inm[2])) + \"\\t\" + str(int(outm[2])) + \"\\t\" + str(int(nonm[2]))"
   ]
  },
  {
   "cell_type": "markdown",
   "metadata": {},
   "source": [
    "# Number of people moving in / out"
   ]
  },
  {
   "cell_type": "code",
   "execution_count": 59,
   "metadata": {
    "collapsed": false
   },
   "outputs": [
    {
     "name": "stdout",
     "output_type": "stream",
     "text": [
      "year\tin\tout\n",
      "1993\t33195\t46731\n",
      "1994\t32765\t45825\n",
      "1995\t35221\t46476\n",
      "1996\t33780\t44391\n",
      "1997\t35624\t45841\n",
      "1998\t36956\t44953\n",
      "1999\t37959\t43575\n",
      "2000\t39333\t43526\n",
      "2001\t39182\t43809\n",
      "2002\t40096\t42246\n",
      "2003\t39449\t41126\n",
      "2004\t37264\t44152\n",
      "2005\t38125\t44772\n",
      "2006\t38256\t45650\n",
      "2007\t36676\t44687\n",
      "2008\t38072\t44230\n",
      "2009\t36310\t41322\n",
      "2010\t32415\t38637\n",
      "2011\t33881\t41151\n",
      "2012\t39062\t46576\n",
      "2013\t39385\t48362\n"
     ]
    }
   ],
   "source": [
    "print \"year\\tin\\tout\"\n",
    "    \n",
    "for year in totals.keys():\n",
    "    inm = money_people_average(inmigrants(year))\n",
    "    outm = money_people_average(outmigrants(year))\n",
    "    nonm = money_people_average(nonmigrants(year))\n",
    "    \n",
    "    print str(year) + \"\\t\" + str(int(inm[1])) + \"\\t\" + str(int(outm[1]))"
   ]
  },
  {
   "cell_type": "code",
   "execution_count": null,
   "metadata": {
    "collapsed": true
   },
   "outputs": [],
   "source": []
  }
 ],
 "metadata": {
  "kernelspec": {
   "display_name": "Python 2",
   "language": "python",
   "name": "python2"
  },
  "language_info": {
   "codemirror_mode": {
    "name": "ipython",
    "version": 2
   },
   "file_extension": ".py",
   "mimetype": "text/x-python",
   "name": "python",
   "nbconvert_exporter": "python",
   "pygments_lexer": "ipython2",
   "version": "2.7.11"
  }
 },
 "nbformat": 4,
 "nbformat_minor": 0
}
